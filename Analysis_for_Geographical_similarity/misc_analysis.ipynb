{
 "cells": [
  {
   "cell_type": "markdown",
   "id": "490fedac",
   "metadata": {},
   "source": [
    "## Regression line fitted to travel time vs distance"
   ]
  },
  {
   "cell_type": "code",
   "execution_count": 24,
   "id": "e2cd4b84",
   "metadata": {},
   "outputs": [],
   "source": [
    "import pandas as pd\n",
    "import json"
   ]
  },
  {
   "cell_type": "code",
   "execution_count": 25,
   "id": "8ab5d4d0",
   "metadata": {},
   "outputs": [],
   "source": [
    "suburb_data_path = 'suburbs_data.csv'\n",
    "suburb_data = pd.read_csv(suburb_data_path)\n",
    "\n",
    "group_feature_dict_path = 'group_feature_dict.json'\n",
    "with open(group_feature_dict_path, 'r') as f:\n",
    "    group_feature_dict = json.load(f)"
   ]
  },
  {
   "cell_type": "code",
   "execution_count": 26,
   "id": "0709857f",
   "metadata": {},
   "outputs": [
    {
     "data": {
      "text/html": [
       "<div>\n",
       "<style scoped>\n",
       "    .dataframe tbody tr th:only-of-type {\n",
       "        vertical-align: middle;\n",
       "    }\n",
       "\n",
       "    .dataframe tbody tr th {\n",
       "        vertical-align: top;\n",
       "    }\n",
       "\n",
       "    .dataframe thead th {\n",
       "        text-align: right;\n",
       "    }\n",
       "</style>\n",
       "<table border=\"1\" class=\"dataframe\">\n",
       "  <thead>\n",
       "    <tr style=\"text-align: right;\">\n",
       "      <th></th>\n",
       "      <th>Suburb</th>\n",
       "      <th>Community Name</th>\n",
       "      <th>Region</th>\n",
       "      <th>Map reference</th>\n",
       "      <th>Grid reference</th>\n",
       "      <th>Location</th>\n",
       "      <th>Population Density</th>\n",
       "      <th>Travel time to GPO (minutes)</th>\n",
       "      <th>Distance to GPO (km)</th>\n",
       "      <th>LGA</th>\n",
       "      <th>...</th>\n",
       "      <th>Time to nearest public hospital with maternity services</th>\n",
       "      <th>Distance to nearest public hospital with maternity services</th>\n",
       "      <th>Presentations to emergency departments, 2012-13</th>\n",
       "      <th>Nearest public hospital with emergency department</th>\n",
       "      <th>Travel time to nearest public hospital with emergency department</th>\n",
       "      <th>Distance to nearest public hospital with emergency department</th>\n",
       "      <th>Presentations to emergency departments due to injury</th>\n",
       "      <th>Presentations to emergency departments due to injury, %</th>\n",
       "      <th>Category 4 &amp; 5 emergency department presentations</th>\n",
       "      <th>Category 4 &amp; 5 emergency department presentations, %</th>\n",
       "    </tr>\n",
       "  </thead>\n",
       "  <tbody>\n",
       "    <tr>\n",
       "      <th>0</th>\n",
       "      <td>Ascot-Vale-Suburb - XLSX</td>\n",
       "      <td>Ascot Vale (Suburb)</td>\n",
       "      <td>Northern and Western Metropolitan</td>\n",
       "      <td>4</td>\n",
       "      <td>B3</td>\n",
       "      <td>6km NW of Melbourne</td>\n",
       "      <td>3758.623596</td>\n",
       "      <td>9.360142</td>\n",
       "      <td>6.958742</td>\n",
       "      <td>Moonee Valley (C)</td>\n",
       "      <td>...</td>\n",
       "      <td>6.490453</td>\n",
       "      <td>4.912570</td>\n",
       "      <td>3313.052180</td>\n",
       "      <td>Royal Melbourne Hospital</td>\n",
       "      <td>6.630953</td>\n",
       "      <td>4.993841</td>\n",
       "      <td>679.257076</td>\n",
       "      <td>20.502456</td>\n",
       "      <td>1864.918123</td>\n",
       "      <td>56.290032</td>\n",
       "    </tr>\n",
       "    <tr>\n",
       "      <th>1</th>\n",
       "      <td>Braybrook-Suburb - XLSX</td>\n",
       "      <td>Braybrook (Suburb)</td>\n",
       "      <td>Northern and Western Metropolitan</td>\n",
       "      <td>4</td>\n",
       "      <td>A3</td>\n",
       "      <td>10km WNW of Melbourne</td>\n",
       "      <td>2025.468296</td>\n",
       "      <td>15.131666</td>\n",
       "      <td>11.595888</td>\n",
       "      <td>Maribyrnong (C)</td>\n",
       "      <td>...</td>\n",
       "      <td>8.071881</td>\n",
       "      <td>6.216803</td>\n",
       "      <td>2632.949379</td>\n",
       "      <td>Royal Melbourne Hospital</td>\n",
       "      <td>12.824977</td>\n",
       "      <td>10.161988</td>\n",
       "      <td>543.631989</td>\n",
       "      <td>20.647263</td>\n",
       "      <td>1683.966712</td>\n",
       "      <td>63.957428</td>\n",
       "    </tr>\n",
       "    <tr>\n",
       "      <th>2</th>\n",
       "      <td>Craigieburn-Suburb - XLSX</td>\n",
       "      <td>Craigieburn (Suburb)</td>\n",
       "      <td>Northern and Western Metropolitan</td>\n",
       "      <td>2</td>\n",
       "      <td>A3</td>\n",
       "      <td>27km N of Melbourne</td>\n",
       "      <td>1034.970870</td>\n",
       "      <td>31.994666</td>\n",
       "      <td>43.100287</td>\n",
       "      <td>Hume (C)</td>\n",
       "      <td>...</td>\n",
       "      <td>11.570855</td>\n",
       "      <td>15.213189</td>\n",
       "      <td>9915.723721</td>\n",
       "      <td>The Northern Hospital</td>\n",
       "      <td>11.570855</td>\n",
       "      <td>15.213189</td>\n",
       "      <td>2044.424399</td>\n",
       "      <td>20.618005</td>\n",
       "      <td>5102.134434</td>\n",
       "      <td>51.454988</td>\n",
       "    </tr>\n",
       "    <tr>\n",
       "      <th>3</th>\n",
       "      <td>Croydon-Suburb - XLSX</td>\n",
       "      <td>Croydon (Suburb)</td>\n",
       "      <td>Eastern Metropolitan</td>\n",
       "      <td>2</td>\n",
       "      <td>B4</td>\n",
       "      <td>28km E of Melbourne</td>\n",
       "      <td>1730.064830</td>\n",
       "      <td>28.992647</td>\n",
       "      <td>34.071323</td>\n",
       "      <td>Maroondah (C)</td>\n",
       "      <td>...</td>\n",
       "      <td>10.683462</td>\n",
       "      <td>9.413847</td>\n",
       "      <td>6149.574954</td>\n",
       "      <td>Maroondah Hospital</td>\n",
       "      <td>5.093285</td>\n",
       "      <td>3.601752</td>\n",
       "      <td>1754.954941</td>\n",
       "      <td>28.537825</td>\n",
       "      <td>3062.182462</td>\n",
       "      <td>49.795026</td>\n",
       "    </tr>\n",
       "    <tr>\n",
       "      <th>4</th>\n",
       "      <td>Fawkner-Suburb - XLSX</td>\n",
       "      <td>Fawkner (Suburb)</td>\n",
       "      <td>Northern and Western Metropolitan</td>\n",
       "      <td>4</td>\n",
       "      <td>C1</td>\n",
       "      <td>12km N of Melbourne</td>\n",
       "      <td>2619.120089</td>\n",
       "      <td>17.405267</td>\n",
       "      <td>13.047142</td>\n",
       "      <td>Moreland (C)</td>\n",
       "      <td>...</td>\n",
       "      <td>11.510757</td>\n",
       "      <td>12.004044</td>\n",
       "      <td>3799.030890</td>\n",
       "      <td>The Northern Hospital</td>\n",
       "      <td>11.510757</td>\n",
       "      <td>12.004044</td>\n",
       "      <td>680.401318</td>\n",
       "      <td>17.909865</td>\n",
       "      <td>1942.874353</td>\n",
       "      <td>51.141315</td>\n",
       "    </tr>\n",
       "  </tbody>\n",
       "</table>\n",
       "<p>5 rows × 227 columns</p>\n",
       "</div>"
      ],
      "text/plain": [
       "                      Suburb        Community Name  \\\n",
       "0   Ascot-Vale-Suburb - XLSX   Ascot Vale (Suburb)   \n",
       "1    Braybrook-Suburb - XLSX    Braybrook (Suburb)   \n",
       "2  Craigieburn-Suburb - XLSX  Craigieburn (Suburb)   \n",
       "3      Croydon-Suburb - XLSX      Croydon (Suburb)   \n",
       "4      Fawkner-Suburb - XLSX      Fawkner (Suburb)   \n",
       "\n",
       "                              Region  Map reference Grid reference  \\\n",
       "0  Northern and Western Metropolitan              4             B3   \n",
       "1  Northern and Western Metropolitan              4             A3   \n",
       "2  Northern and Western Metropolitan              2             A3   \n",
       "3               Eastern Metropolitan              2             B4   \n",
       "4  Northern and Western Metropolitan              4             C1   \n",
       "\n",
       "                Location  Population Density  Travel time to GPO (minutes)  \\\n",
       "0    6km NW of Melbourne         3758.623596                      9.360142   \n",
       "1  10km WNW of Melbourne         2025.468296                     15.131666   \n",
       "2    27km N of Melbourne         1034.970870                     31.994666   \n",
       "3    28km E of Melbourne         1730.064830                     28.992647   \n",
       "4    12km N of Melbourne         2619.120089                     17.405267   \n",
       "\n",
       "   Distance to GPO (km)                LGA  ...  \\\n",
       "0              6.958742  Moonee Valley (C)  ...   \n",
       "1             11.595888    Maribyrnong (C)  ...   \n",
       "2             43.100287           Hume (C)  ...   \n",
       "3             34.071323      Maroondah (C)  ...   \n",
       "4             13.047142       Moreland (C)  ...   \n",
       "\n",
       "  Time to nearest public hospital with maternity services  \\\n",
       "0                                           6.490453        \n",
       "1                                           8.071881        \n",
       "2                                          11.570855        \n",
       "3                                          10.683462        \n",
       "4                                          11.510757        \n",
       "\n",
       "  Distance to nearest public hospital with maternity services  \\\n",
       "0                                           4.912570            \n",
       "1                                           6.216803            \n",
       "2                                          15.213189            \n",
       "3                                           9.413847            \n",
       "4                                          12.004044            \n",
       "\n",
       "   Presentations to emergency departments, 2012-13  \\\n",
       "0                                      3313.052180   \n",
       "1                                      2632.949379   \n",
       "2                                      9915.723721   \n",
       "3                                      6149.574954   \n",
       "4                                      3799.030890   \n",
       "\n",
       "   Nearest public hospital with emergency department  \\\n",
       "0                           Royal Melbourne Hospital   \n",
       "1                           Royal Melbourne Hospital   \n",
       "2                              The Northern Hospital   \n",
       "3                                 Maroondah Hospital   \n",
       "4                              The Northern Hospital   \n",
       "\n",
       "   Travel time to nearest public hospital with emergency department  \\\n",
       "0                                           6.630953                  \n",
       "1                                          12.824977                  \n",
       "2                                          11.570855                  \n",
       "3                                           5.093285                  \n",
       "4                                          11.510757                  \n",
       "\n",
       "   Distance to nearest public hospital with emergency department  \\\n",
       "0                                           4.993841               \n",
       "1                                          10.161988               \n",
       "2                                          15.213189               \n",
       "3                                           3.601752               \n",
       "4                                          12.004044               \n",
       "\n",
       "  Presentations to emergency departments due to injury  \\\n",
       "0                                         679.257076     \n",
       "1                                         543.631989     \n",
       "2                                        2044.424399     \n",
       "3                                        1754.954941     \n",
       "4                                         680.401318     \n",
       "\n",
       "  Presentations to emergency departments due to injury, %  \\\n",
       "0                                          20.502456        \n",
       "1                                          20.647263        \n",
       "2                                          20.618005        \n",
       "3                                          28.537825        \n",
       "4                                          17.909865        \n",
       "\n",
       "   Category 4 & 5 emergency department presentations  \\\n",
       "0                                        1864.918123   \n",
       "1                                        1683.966712   \n",
       "2                                        5102.134434   \n",
       "3                                        3062.182462   \n",
       "4                                        1942.874353   \n",
       "\n",
       "   Category 4 & 5 emergency department presentations, %  \n",
       "0                                          56.290032     \n",
       "1                                          63.957428     \n",
       "2                                          51.454988     \n",
       "3                                          49.795026     \n",
       "4                                          51.141315     \n",
       "\n",
       "[5 rows x 227 columns]"
      ]
     },
     "execution_count": 26,
     "metadata": {},
     "output_type": "execute_result"
    }
   ],
   "source": [
    "suburb_data.head()"
   ]
  },
  {
   "cell_type": "code",
   "execution_count": 27,
   "id": "94818265",
   "metadata": {},
   "outputs": [],
   "source": [
    "# Assuming suburb_data is your dataframe\n",
    "X = suburb_data[['Distance to GPO (km)']].values  # Predictor variable\n",
    "y = suburb_data['Travel time to GPO (minutes)'].values  # Response variable"
   ]
  },
  {
   "cell_type": "code",
   "execution_count": 28,
   "id": "fd4a8fb9",
   "metadata": {},
   "outputs": [
    {
     "data": {
      "text/plain": [
       "array([ 9.36014157, 15.1316658 , 31.99466551, 28.9926473 , 17.40526665,\n",
       "        9.39451155, 15.98208267, 13.81185589, 11.98326371, 22.65084023,\n",
       "       23.50881425, 21.33162969, 26.98451712, 17.39331544, 27.77142467,\n",
       "        4.83188851,  9.36158426,  4.92804121, 10.79364486,  7.74396544,\n",
       "        8.68824261, 46.33316383, 82.82152261,  5.03109681,  6.54795231,\n",
       "       24.43781852, 73.29162859, 10.2588295 ,  8.28348808,  8.81731056,\n",
       "        8.94233857, 51.55577056, 33.49784884,  8.65988514])"
      ]
     },
     "execution_count": 28,
     "metadata": {},
     "output_type": "execute_result"
    }
   ],
   "source": [
    "y"
   ]
  },
  {
   "cell_type": "code",
   "execution_count": 29,
   "id": "54a842ff",
   "metadata": {},
   "outputs": [
    {
     "name": "stdout",
     "output_type": "stream",
     "text": [
      "Mean Squared Error: 4.0229166613891385\n"
     ]
    },
    {
     "data": {
      "application/vnd.plotly.v1+json": {
       "config": {
        "plotlyServerURL": "https://plot.ly"
       },
       "data": [
        {
         "hovertemplate": "Distance to GPO: %{x:.2f} km<br>Travel Time: %{y:.2f} minutes",
         "marker": {
          "color": "blue",
          "size": 6
         },
         "mode": "markers",
         "name": "Data Points",
         "type": "scatter",
         "x": [
          6.95874217182,
          11.595888427399998,
          43.1002873422,
          34.0713227139,
          13.0471422114,
          7.03473949306,
          14.6877511062,
          13.9627120319,
          11.5832407394,
          24.5729847292,
          21.4002228363,
          17.8643691683,
          24.7449091315,
          16.4231571257,
          34.3953767819,
          3.46800720451,
          6.83484493751,
          3.68885440655,
          9.05531234632,
          5.83159378799,
          6.38206272778,
          63.2410324041,
          106.83926235,
          3.35458496333,
          4.48590789939,
          26.1029271851,
          101.434389047,
          7.69148504037,
          6.11121189903,
          6.33489896471,
          7.795500624160001,
          69.1558054291,
          41.9017854655,
          5.88550482747
         ],
         "y": [
          9.36014157216,
          15.1316658013,
          31.9946655053,
          28.9926473034,
          17.4052666463,
          9.39451154949,
          15.9820826662,
          13.8118558932,
          11.9832637111,
          22.6508402259,
          23.508814249,
          21.3316296905,
          26.9845171215,
          17.393315444,
          27.7714246679,
          4.83188850845,
          9.36158425783,
          4.92804121174,
          10.7936448599,
          7.74396543855,
          8.68824261459,
          46.3331638278,
          82.8215226078,
          5.03109680624,
          6.54795231136,
          24.437818516,
          73.2916285854,
          10.258829504,
          8.28348807736,
          8.81731055884,
          8.9423385671,
          51.5557705602,
          33.4978488444,
          8.65988513715
         ]
        },
        {
         "hovertemplate": "Predicted Travel Time: %{y:.2f} minutes<br>Distance to GPO: %{x:.2f} km",
         "line": {
          "color": "green",
          "dash": "dash",
          "width": 2
         },
         "mode": "lines",
         "name": "Regression Line",
         "type": "scatter",
         "x": [
          6.95874217182,
          11.595888427399998,
          43.1002873422,
          34.0713227139,
          13.0471422114,
          7.03473949306,
          14.6877511062,
          13.9627120319,
          11.5832407394,
          24.5729847292,
          21.4002228363,
          17.8643691683,
          24.7449091315,
          16.4231571257,
          34.3953767819,
          3.46800720451,
          6.83484493751,
          3.68885440655,
          9.05531234632,
          5.83159378799,
          6.38206272778,
          63.2410324041,
          106.83926235,
          3.35458496333,
          4.48590789939,
          26.1029271851,
          101.434389047,
          7.69148504037,
          6.11121189903,
          6.33489896471,
          7.795500624160001,
          69.1558054291,
          41.9017854655,
          5.88550482747
         ],
         "y": [
          9.636729961207418,
          12.88073449218296,
          34.920240514295514,
          28.60385527434807,
          13.895986889112708,
          9.689895343719972,
          15.043706282669833,
          14.536491303342137,
          12.871886559657867,
          21.959110907696658,
          19.73954452160544,
          17.265970325825883,
          22.079383918144696,
          16.25774282153593,
          28.830553507902394,
          7.1947194171660325,
          9.550055276536145,
          7.3492173097457485,
          11.103425806179317,
          8.848211708235272,
          9.233302804443689,
          49.010084706594924,
          79.51006199689998,
          7.115372714685263,
          7.906811355672479,
          23.029411473071143,
          75.72897929691347,
          10.149334277440897,
          9.043823916512089,
          9.200308490125302,
          10.222100372472037,
          53.14787752900225,
          34.081805557942985,
          8.885926209073428
         ]
        }
       ],
       "layout": {
        "height": 600,
        "legend": {
         "bgcolor": "rgba(255,255,255,0.5)",
         "title": {
          "text": "Legend"
         },
         "x": 0.7,
         "y": 0.3
        },
        "template": {
         "data": {
          "bar": [
           {
            "error_x": {
             "color": "#2a3f5f"
            },
            "error_y": {
             "color": "#2a3f5f"
            },
            "marker": {
             "line": {
              "color": "white",
              "width": 0.5
             },
             "pattern": {
              "fillmode": "overlay",
              "size": 10,
              "solidity": 0.2
             }
            },
            "type": "bar"
           }
          ],
          "barpolar": [
           {
            "marker": {
             "line": {
              "color": "white",
              "width": 0.5
             },
             "pattern": {
              "fillmode": "overlay",
              "size": 10,
              "solidity": 0.2
             }
            },
            "type": "barpolar"
           }
          ],
          "carpet": [
           {
            "aaxis": {
             "endlinecolor": "#2a3f5f",
             "gridcolor": "#C8D4E3",
             "linecolor": "#C8D4E3",
             "minorgridcolor": "#C8D4E3",
             "startlinecolor": "#2a3f5f"
            },
            "baxis": {
             "endlinecolor": "#2a3f5f",
             "gridcolor": "#C8D4E3",
             "linecolor": "#C8D4E3",
             "minorgridcolor": "#C8D4E3",
             "startlinecolor": "#2a3f5f"
            },
            "type": "carpet"
           }
          ],
          "choropleth": [
           {
            "colorbar": {
             "outlinewidth": 0,
             "ticks": ""
            },
            "type": "choropleth"
           }
          ],
          "contour": [
           {
            "colorbar": {
             "outlinewidth": 0,
             "ticks": ""
            },
            "colorscale": [
             [
              0,
              "#0d0887"
             ],
             [
              0.1111111111111111,
              "#46039f"
             ],
             [
              0.2222222222222222,
              "#7201a8"
             ],
             [
              0.3333333333333333,
              "#9c179e"
             ],
             [
              0.4444444444444444,
              "#bd3786"
             ],
             [
              0.5555555555555556,
              "#d8576b"
             ],
             [
              0.6666666666666666,
              "#ed7953"
             ],
             [
              0.7777777777777778,
              "#fb9f3a"
             ],
             [
              0.8888888888888888,
              "#fdca26"
             ],
             [
              1,
              "#f0f921"
             ]
            ],
            "type": "contour"
           }
          ],
          "contourcarpet": [
           {
            "colorbar": {
             "outlinewidth": 0,
             "ticks": ""
            },
            "type": "contourcarpet"
           }
          ],
          "heatmap": [
           {
            "colorbar": {
             "outlinewidth": 0,
             "ticks": ""
            },
            "colorscale": [
             [
              0,
              "#0d0887"
             ],
             [
              0.1111111111111111,
              "#46039f"
             ],
             [
              0.2222222222222222,
              "#7201a8"
             ],
             [
              0.3333333333333333,
              "#9c179e"
             ],
             [
              0.4444444444444444,
              "#bd3786"
             ],
             [
              0.5555555555555556,
              "#d8576b"
             ],
             [
              0.6666666666666666,
              "#ed7953"
             ],
             [
              0.7777777777777778,
              "#fb9f3a"
             ],
             [
              0.8888888888888888,
              "#fdca26"
             ],
             [
              1,
              "#f0f921"
             ]
            ],
            "type": "heatmap"
           }
          ],
          "heatmapgl": [
           {
            "colorbar": {
             "outlinewidth": 0,
             "ticks": ""
            },
            "colorscale": [
             [
              0,
              "#0d0887"
             ],
             [
              0.1111111111111111,
              "#46039f"
             ],
             [
              0.2222222222222222,
              "#7201a8"
             ],
             [
              0.3333333333333333,
              "#9c179e"
             ],
             [
              0.4444444444444444,
              "#bd3786"
             ],
             [
              0.5555555555555556,
              "#d8576b"
             ],
             [
              0.6666666666666666,
              "#ed7953"
             ],
             [
              0.7777777777777778,
              "#fb9f3a"
             ],
             [
              0.8888888888888888,
              "#fdca26"
             ],
             [
              1,
              "#f0f921"
             ]
            ],
            "type": "heatmapgl"
           }
          ],
          "histogram": [
           {
            "marker": {
             "pattern": {
              "fillmode": "overlay",
              "size": 10,
              "solidity": 0.2
             }
            },
            "type": "histogram"
           }
          ],
          "histogram2d": [
           {
            "colorbar": {
             "outlinewidth": 0,
             "ticks": ""
            },
            "colorscale": [
             [
              0,
              "#0d0887"
             ],
             [
              0.1111111111111111,
              "#46039f"
             ],
             [
              0.2222222222222222,
              "#7201a8"
             ],
             [
              0.3333333333333333,
              "#9c179e"
             ],
             [
              0.4444444444444444,
              "#bd3786"
             ],
             [
              0.5555555555555556,
              "#d8576b"
             ],
             [
              0.6666666666666666,
              "#ed7953"
             ],
             [
              0.7777777777777778,
              "#fb9f3a"
             ],
             [
              0.8888888888888888,
              "#fdca26"
             ],
             [
              1,
              "#f0f921"
             ]
            ],
            "type": "histogram2d"
           }
          ],
          "histogram2dcontour": [
           {
            "colorbar": {
             "outlinewidth": 0,
             "ticks": ""
            },
            "colorscale": [
             [
              0,
              "#0d0887"
             ],
             [
              0.1111111111111111,
              "#46039f"
             ],
             [
              0.2222222222222222,
              "#7201a8"
             ],
             [
              0.3333333333333333,
              "#9c179e"
             ],
             [
              0.4444444444444444,
              "#bd3786"
             ],
             [
              0.5555555555555556,
              "#d8576b"
             ],
             [
              0.6666666666666666,
              "#ed7953"
             ],
             [
              0.7777777777777778,
              "#fb9f3a"
             ],
             [
              0.8888888888888888,
              "#fdca26"
             ],
             [
              1,
              "#f0f921"
             ]
            ],
            "type": "histogram2dcontour"
           }
          ],
          "mesh3d": [
           {
            "colorbar": {
             "outlinewidth": 0,
             "ticks": ""
            },
            "type": "mesh3d"
           }
          ],
          "parcoords": [
           {
            "line": {
             "colorbar": {
              "outlinewidth": 0,
              "ticks": ""
             }
            },
            "type": "parcoords"
           }
          ],
          "pie": [
           {
            "automargin": true,
            "type": "pie"
           }
          ],
          "scatter": [
           {
            "fillpattern": {
             "fillmode": "overlay",
             "size": 10,
             "solidity": 0.2
            },
            "type": "scatter"
           }
          ],
          "scatter3d": [
           {
            "line": {
             "colorbar": {
              "outlinewidth": 0,
              "ticks": ""
             }
            },
            "marker": {
             "colorbar": {
              "outlinewidth": 0,
              "ticks": ""
             }
            },
            "type": "scatter3d"
           }
          ],
          "scattercarpet": [
           {
            "marker": {
             "colorbar": {
              "outlinewidth": 0,
              "ticks": ""
             }
            },
            "type": "scattercarpet"
           }
          ],
          "scattergeo": [
           {
            "marker": {
             "colorbar": {
              "outlinewidth": 0,
              "ticks": ""
             }
            },
            "type": "scattergeo"
           }
          ],
          "scattergl": [
           {
            "marker": {
             "colorbar": {
              "outlinewidth": 0,
              "ticks": ""
             }
            },
            "type": "scattergl"
           }
          ],
          "scattermapbox": [
           {
            "marker": {
             "colorbar": {
              "outlinewidth": 0,
              "ticks": ""
             }
            },
            "type": "scattermapbox"
           }
          ],
          "scatterpolar": [
           {
            "marker": {
             "colorbar": {
              "outlinewidth": 0,
              "ticks": ""
             }
            },
            "type": "scatterpolar"
           }
          ],
          "scatterpolargl": [
           {
            "marker": {
             "colorbar": {
              "outlinewidth": 0,
              "ticks": ""
             }
            },
            "type": "scatterpolargl"
           }
          ],
          "scatterternary": [
           {
            "marker": {
             "colorbar": {
              "outlinewidth": 0,
              "ticks": ""
             }
            },
            "type": "scatterternary"
           }
          ],
          "surface": [
           {
            "colorbar": {
             "outlinewidth": 0,
             "ticks": ""
            },
            "colorscale": [
             [
              0,
              "#0d0887"
             ],
             [
              0.1111111111111111,
              "#46039f"
             ],
             [
              0.2222222222222222,
              "#7201a8"
             ],
             [
              0.3333333333333333,
              "#9c179e"
             ],
             [
              0.4444444444444444,
              "#bd3786"
             ],
             [
              0.5555555555555556,
              "#d8576b"
             ],
             [
              0.6666666666666666,
              "#ed7953"
             ],
             [
              0.7777777777777778,
              "#fb9f3a"
             ],
             [
              0.8888888888888888,
              "#fdca26"
             ],
             [
              1,
              "#f0f921"
             ]
            ],
            "type": "surface"
           }
          ],
          "table": [
           {
            "cells": {
             "fill": {
              "color": "#EBF0F8"
             },
             "line": {
              "color": "white"
             }
            },
            "header": {
             "fill": {
              "color": "#C8D4E3"
             },
             "line": {
              "color": "white"
             }
            },
            "type": "table"
           }
          ]
         },
         "layout": {
          "annotationdefaults": {
           "arrowcolor": "#2a3f5f",
           "arrowhead": 0,
           "arrowwidth": 1
          },
          "autotypenumbers": "strict",
          "coloraxis": {
           "colorbar": {
            "outlinewidth": 0,
            "ticks": ""
           }
          },
          "colorscale": {
           "diverging": [
            [
             0,
             "#8e0152"
            ],
            [
             0.1,
             "#c51b7d"
            ],
            [
             0.2,
             "#de77ae"
            ],
            [
             0.3,
             "#f1b6da"
            ],
            [
             0.4,
             "#fde0ef"
            ],
            [
             0.5,
             "#f7f7f7"
            ],
            [
             0.6,
             "#e6f5d0"
            ],
            [
             0.7,
             "#b8e186"
            ],
            [
             0.8,
             "#7fbc41"
            ],
            [
             0.9,
             "#4d9221"
            ],
            [
             1,
             "#276419"
            ]
           ],
           "sequential": [
            [
             0,
             "#0d0887"
            ],
            [
             0.1111111111111111,
             "#46039f"
            ],
            [
             0.2222222222222222,
             "#7201a8"
            ],
            [
             0.3333333333333333,
             "#9c179e"
            ],
            [
             0.4444444444444444,
             "#bd3786"
            ],
            [
             0.5555555555555556,
             "#d8576b"
            ],
            [
             0.6666666666666666,
             "#ed7953"
            ],
            [
             0.7777777777777778,
             "#fb9f3a"
            ],
            [
             0.8888888888888888,
             "#fdca26"
            ],
            [
             1,
             "#f0f921"
            ]
           ],
           "sequentialminus": [
            [
             0,
             "#0d0887"
            ],
            [
             0.1111111111111111,
             "#46039f"
            ],
            [
             0.2222222222222222,
             "#7201a8"
            ],
            [
             0.3333333333333333,
             "#9c179e"
            ],
            [
             0.4444444444444444,
             "#bd3786"
            ],
            [
             0.5555555555555556,
             "#d8576b"
            ],
            [
             0.6666666666666666,
             "#ed7953"
            ],
            [
             0.7777777777777778,
             "#fb9f3a"
            ],
            [
             0.8888888888888888,
             "#fdca26"
            ],
            [
             1,
             "#f0f921"
            ]
           ]
          },
          "colorway": [
           "#636efa",
           "#EF553B",
           "#00cc96",
           "#ab63fa",
           "#FFA15A",
           "#19d3f3",
           "#FF6692",
           "#B6E880",
           "#FF97FF",
           "#FECB52"
          ],
          "font": {
           "color": "#2a3f5f"
          },
          "geo": {
           "bgcolor": "white",
           "lakecolor": "white",
           "landcolor": "white",
           "showlakes": true,
           "showland": true,
           "subunitcolor": "#C8D4E3"
          },
          "hoverlabel": {
           "align": "left"
          },
          "hovermode": "closest",
          "mapbox": {
           "style": "light"
          },
          "paper_bgcolor": "white",
          "plot_bgcolor": "white",
          "polar": {
           "angularaxis": {
            "gridcolor": "#EBF0F8",
            "linecolor": "#EBF0F8",
            "ticks": ""
           },
           "bgcolor": "white",
           "radialaxis": {
            "gridcolor": "#EBF0F8",
            "linecolor": "#EBF0F8",
            "ticks": ""
           }
          },
          "scene": {
           "xaxis": {
            "backgroundcolor": "white",
            "gridcolor": "#DFE8F3",
            "gridwidth": 2,
            "linecolor": "#EBF0F8",
            "showbackground": true,
            "ticks": "",
            "zerolinecolor": "#EBF0F8"
           },
           "yaxis": {
            "backgroundcolor": "white",
            "gridcolor": "#DFE8F3",
            "gridwidth": 2,
            "linecolor": "#EBF0F8",
            "showbackground": true,
            "ticks": "",
            "zerolinecolor": "#EBF0F8"
           },
           "zaxis": {
            "backgroundcolor": "white",
            "gridcolor": "#DFE8F3",
            "gridwidth": 2,
            "linecolor": "#EBF0F8",
            "showbackground": true,
            "ticks": "",
            "zerolinecolor": "#EBF0F8"
           }
          },
          "shapedefaults": {
           "line": {
            "color": "#2a3f5f"
           }
          },
          "ternary": {
           "aaxis": {
            "gridcolor": "#DFE8F3",
            "linecolor": "#A2B1C6",
            "ticks": ""
           },
           "baxis": {
            "gridcolor": "#DFE8F3",
            "linecolor": "#A2B1C6",
            "ticks": ""
           },
           "bgcolor": "white",
           "caxis": {
            "gridcolor": "#DFE8F3",
            "linecolor": "#A2B1C6",
            "ticks": ""
           }
          },
          "title": {
           "x": 0.05
          },
          "xaxis": {
           "automargin": true,
           "gridcolor": "#EBF0F8",
           "linecolor": "#EBF0F8",
           "ticks": "",
           "title": {
            "standoff": 15
           },
           "zerolinecolor": "#EBF0F8",
           "zerolinewidth": 2
          },
          "yaxis": {
           "automargin": true,
           "gridcolor": "#EBF0F8",
           "linecolor": "#EBF0F8",
           "ticks": "",
           "title": {
            "standoff": 15
           },
           "zerolinecolor": "#EBF0F8",
           "zerolinewidth": 2
          }
         }
        },
        "title": {
         "text": "Linear Regression: Travel Time vs Distance to GPO"
        },
        "width": 800,
        "xaxis": {
         "title": {
          "text": "Distance to GPO (km)"
         }
        },
        "yaxis": {
         "title": {
          "text": "Travel time to GPO (minutes)"
         }
        }
       }
      },
      "text/html": [
       "<div>                            <div id=\"44bce912-59b7-4e2d-ba0e-fe7a56b9d5ae\" class=\"plotly-graph-div\" style=\"height:600px; width:800px;\"></div>            <script type=\"text/javascript\">                require([\"plotly\"], function(Plotly) {                    window.PLOTLYENV=window.PLOTLYENV || {};                                    if (document.getElementById(\"44bce912-59b7-4e2d-ba0e-fe7a56b9d5ae\")) {                    Plotly.newPlot(                        \"44bce912-59b7-4e2d-ba0e-fe7a56b9d5ae\",                        [{\"hovertemplate\":\"Distance to GPO: %{x:.2f} km<br>Travel Time: %{y:.2f} minutes\",\"marker\":{\"color\":\"blue\",\"size\":6},\"mode\":\"markers\",\"name\":\"Data Points\",\"x\":[6.95874217182,11.595888427399998,43.1002873422,34.0713227139,13.0471422114,7.03473949306,14.6877511062,13.9627120319,11.5832407394,24.5729847292,21.4002228363,17.8643691683,24.7449091315,16.4231571257,34.3953767819,3.46800720451,6.83484493751,3.68885440655,9.05531234632,5.83159378799,6.38206272778,63.2410324041,106.83926235,3.35458496333,4.48590789939,26.1029271851,101.434389047,7.69148504037,6.11121189903,6.33489896471,7.795500624160001,69.1558054291,41.9017854655,5.88550482747],\"y\":[9.36014157216,15.1316658013,31.9946655053,28.9926473034,17.4052666463,9.39451154949,15.9820826662,13.8118558932,11.9832637111,22.6508402259,23.508814249,21.3316296905,26.9845171215,17.393315444,27.7714246679,4.83188850845,9.36158425783,4.92804121174,10.7936448599,7.74396543855,8.68824261459,46.3331638278,82.8215226078,5.03109680624,6.54795231136,24.437818516,73.2916285854,10.258829504,8.28348807736,8.81731055884,8.9423385671,51.5557705602,33.4978488444,8.65988513715],\"type\":\"scatter\"},{\"hovertemplate\":\"Predicted Travel Time: %{y:.2f} minutes<br>Distance to GPO: %{x:.2f} km\",\"line\":{\"color\":\"green\",\"dash\":\"dash\",\"width\":2},\"mode\":\"lines\",\"name\":\"Regression Line\",\"x\":[6.95874217182,11.595888427399998,43.1002873422,34.0713227139,13.0471422114,7.03473949306,14.6877511062,13.9627120319,11.5832407394,24.5729847292,21.4002228363,17.8643691683,24.7449091315,16.4231571257,34.3953767819,3.46800720451,6.83484493751,3.68885440655,9.05531234632,5.83159378799,6.38206272778,63.2410324041,106.83926235,3.35458496333,4.48590789939,26.1029271851,101.434389047,7.69148504037,6.11121189903,6.33489896471,7.795500624160001,69.1558054291,41.9017854655,5.88550482747],\"y\":[9.636729961207418,12.88073449218296,34.920240514295514,28.60385527434807,13.895986889112708,9.689895343719972,15.043706282669833,14.536491303342137,12.871886559657867,21.959110907696658,19.73954452160544,17.265970325825883,22.079383918144696,16.25774282153593,28.830553507902394,7.1947194171660325,9.550055276536145,7.3492173097457485,11.103425806179317,8.848211708235272,9.233302804443689,49.010084706594924,79.51006199689998,7.115372714685263,7.906811355672479,23.029411473071143,75.72897929691347,10.149334277440897,9.043823916512089,9.200308490125302,10.222100372472037,53.14787752900225,34.081805557942985,8.885926209073428],\"type\":\"scatter\"}],                        {\"template\":{\"data\":{\"barpolar\":[{\"marker\":{\"line\":{\"color\":\"white\",\"width\":0.5},\"pattern\":{\"fillmode\":\"overlay\",\"size\":10,\"solidity\":0.2}},\"type\":\"barpolar\"}],\"bar\":[{\"error_x\":{\"color\":\"#2a3f5f\"},\"error_y\":{\"color\":\"#2a3f5f\"},\"marker\":{\"line\":{\"color\":\"white\",\"width\":0.5},\"pattern\":{\"fillmode\":\"overlay\",\"size\":10,\"solidity\":0.2}},\"type\":\"bar\"}],\"carpet\":[{\"aaxis\":{\"endlinecolor\":\"#2a3f5f\",\"gridcolor\":\"#C8D4E3\",\"linecolor\":\"#C8D4E3\",\"minorgridcolor\":\"#C8D4E3\",\"startlinecolor\":\"#2a3f5f\"},\"baxis\":{\"endlinecolor\":\"#2a3f5f\",\"gridcolor\":\"#C8D4E3\",\"linecolor\":\"#C8D4E3\",\"minorgridcolor\":\"#C8D4E3\",\"startlinecolor\":\"#2a3f5f\"},\"type\":\"carpet\"}],\"choropleth\":[{\"colorbar\":{\"outlinewidth\":0,\"ticks\":\"\"},\"type\":\"choropleth\"}],\"contourcarpet\":[{\"colorbar\":{\"outlinewidth\":0,\"ticks\":\"\"},\"type\":\"contourcarpet\"}],\"contour\":[{\"colorbar\":{\"outlinewidth\":0,\"ticks\":\"\"},\"colorscale\":[[0.0,\"#0d0887\"],[0.1111111111111111,\"#46039f\"],[0.2222222222222222,\"#7201a8\"],[0.3333333333333333,\"#9c179e\"],[0.4444444444444444,\"#bd3786\"],[0.5555555555555556,\"#d8576b\"],[0.6666666666666666,\"#ed7953\"],[0.7777777777777778,\"#fb9f3a\"],[0.8888888888888888,\"#fdca26\"],[1.0,\"#f0f921\"]],\"type\":\"contour\"}],\"heatmapgl\":[{\"colorbar\":{\"outlinewidth\":0,\"ticks\":\"\"},\"colorscale\":[[0.0,\"#0d0887\"],[0.1111111111111111,\"#46039f\"],[0.2222222222222222,\"#7201a8\"],[0.3333333333333333,\"#9c179e\"],[0.4444444444444444,\"#bd3786\"],[0.5555555555555556,\"#d8576b\"],[0.6666666666666666,\"#ed7953\"],[0.7777777777777778,\"#fb9f3a\"],[0.8888888888888888,\"#fdca26\"],[1.0,\"#f0f921\"]],\"type\":\"heatmapgl\"}],\"heatmap\":[{\"colorbar\":{\"outlinewidth\":0,\"ticks\":\"\"},\"colorscale\":[[0.0,\"#0d0887\"],[0.1111111111111111,\"#46039f\"],[0.2222222222222222,\"#7201a8\"],[0.3333333333333333,\"#9c179e\"],[0.4444444444444444,\"#bd3786\"],[0.5555555555555556,\"#d8576b\"],[0.6666666666666666,\"#ed7953\"],[0.7777777777777778,\"#fb9f3a\"],[0.8888888888888888,\"#fdca26\"],[1.0,\"#f0f921\"]],\"type\":\"heatmap\"}],\"histogram2dcontour\":[{\"colorbar\":{\"outlinewidth\":0,\"ticks\":\"\"},\"colorscale\":[[0.0,\"#0d0887\"],[0.1111111111111111,\"#46039f\"],[0.2222222222222222,\"#7201a8\"],[0.3333333333333333,\"#9c179e\"],[0.4444444444444444,\"#bd3786\"],[0.5555555555555556,\"#d8576b\"],[0.6666666666666666,\"#ed7953\"],[0.7777777777777778,\"#fb9f3a\"],[0.8888888888888888,\"#fdca26\"],[1.0,\"#f0f921\"]],\"type\":\"histogram2dcontour\"}],\"histogram2d\":[{\"colorbar\":{\"outlinewidth\":0,\"ticks\":\"\"},\"colorscale\":[[0.0,\"#0d0887\"],[0.1111111111111111,\"#46039f\"],[0.2222222222222222,\"#7201a8\"],[0.3333333333333333,\"#9c179e\"],[0.4444444444444444,\"#bd3786\"],[0.5555555555555556,\"#d8576b\"],[0.6666666666666666,\"#ed7953\"],[0.7777777777777778,\"#fb9f3a\"],[0.8888888888888888,\"#fdca26\"],[1.0,\"#f0f921\"]],\"type\":\"histogram2d\"}],\"histogram\":[{\"marker\":{\"pattern\":{\"fillmode\":\"overlay\",\"size\":10,\"solidity\":0.2}},\"type\":\"histogram\"}],\"mesh3d\":[{\"colorbar\":{\"outlinewidth\":0,\"ticks\":\"\"},\"type\":\"mesh3d\"}],\"parcoords\":[{\"line\":{\"colorbar\":{\"outlinewidth\":0,\"ticks\":\"\"}},\"type\":\"parcoords\"}],\"pie\":[{\"automargin\":true,\"type\":\"pie\"}],\"scatter3d\":[{\"line\":{\"colorbar\":{\"outlinewidth\":0,\"ticks\":\"\"}},\"marker\":{\"colorbar\":{\"outlinewidth\":0,\"ticks\":\"\"}},\"type\":\"scatter3d\"}],\"scattercarpet\":[{\"marker\":{\"colorbar\":{\"outlinewidth\":0,\"ticks\":\"\"}},\"type\":\"scattercarpet\"}],\"scattergeo\":[{\"marker\":{\"colorbar\":{\"outlinewidth\":0,\"ticks\":\"\"}},\"type\":\"scattergeo\"}],\"scattergl\":[{\"marker\":{\"colorbar\":{\"outlinewidth\":0,\"ticks\":\"\"}},\"type\":\"scattergl\"}],\"scattermapbox\":[{\"marker\":{\"colorbar\":{\"outlinewidth\":0,\"ticks\":\"\"}},\"type\":\"scattermapbox\"}],\"scatterpolargl\":[{\"marker\":{\"colorbar\":{\"outlinewidth\":0,\"ticks\":\"\"}},\"type\":\"scatterpolargl\"}],\"scatterpolar\":[{\"marker\":{\"colorbar\":{\"outlinewidth\":0,\"ticks\":\"\"}},\"type\":\"scatterpolar\"}],\"scatter\":[{\"fillpattern\":{\"fillmode\":\"overlay\",\"size\":10,\"solidity\":0.2},\"type\":\"scatter\"}],\"scatterternary\":[{\"marker\":{\"colorbar\":{\"outlinewidth\":0,\"ticks\":\"\"}},\"type\":\"scatterternary\"}],\"surface\":[{\"colorbar\":{\"outlinewidth\":0,\"ticks\":\"\"},\"colorscale\":[[0.0,\"#0d0887\"],[0.1111111111111111,\"#46039f\"],[0.2222222222222222,\"#7201a8\"],[0.3333333333333333,\"#9c179e\"],[0.4444444444444444,\"#bd3786\"],[0.5555555555555556,\"#d8576b\"],[0.6666666666666666,\"#ed7953\"],[0.7777777777777778,\"#fb9f3a\"],[0.8888888888888888,\"#fdca26\"],[1.0,\"#f0f921\"]],\"type\":\"surface\"}],\"table\":[{\"cells\":{\"fill\":{\"color\":\"#EBF0F8\"},\"line\":{\"color\":\"white\"}},\"header\":{\"fill\":{\"color\":\"#C8D4E3\"},\"line\":{\"color\":\"white\"}},\"type\":\"table\"}]},\"layout\":{\"annotationdefaults\":{\"arrowcolor\":\"#2a3f5f\",\"arrowhead\":0,\"arrowwidth\":1},\"autotypenumbers\":\"strict\",\"coloraxis\":{\"colorbar\":{\"outlinewidth\":0,\"ticks\":\"\"}},\"colorscale\":{\"diverging\":[[0,\"#8e0152\"],[0.1,\"#c51b7d\"],[0.2,\"#de77ae\"],[0.3,\"#f1b6da\"],[0.4,\"#fde0ef\"],[0.5,\"#f7f7f7\"],[0.6,\"#e6f5d0\"],[0.7,\"#b8e186\"],[0.8,\"#7fbc41\"],[0.9,\"#4d9221\"],[1,\"#276419\"]],\"sequential\":[[0.0,\"#0d0887\"],[0.1111111111111111,\"#46039f\"],[0.2222222222222222,\"#7201a8\"],[0.3333333333333333,\"#9c179e\"],[0.4444444444444444,\"#bd3786\"],[0.5555555555555556,\"#d8576b\"],[0.6666666666666666,\"#ed7953\"],[0.7777777777777778,\"#fb9f3a\"],[0.8888888888888888,\"#fdca26\"],[1.0,\"#f0f921\"]],\"sequentialminus\":[[0.0,\"#0d0887\"],[0.1111111111111111,\"#46039f\"],[0.2222222222222222,\"#7201a8\"],[0.3333333333333333,\"#9c179e\"],[0.4444444444444444,\"#bd3786\"],[0.5555555555555556,\"#d8576b\"],[0.6666666666666666,\"#ed7953\"],[0.7777777777777778,\"#fb9f3a\"],[0.8888888888888888,\"#fdca26\"],[1.0,\"#f0f921\"]]},\"colorway\":[\"#636efa\",\"#EF553B\",\"#00cc96\",\"#ab63fa\",\"#FFA15A\",\"#19d3f3\",\"#FF6692\",\"#B6E880\",\"#FF97FF\",\"#FECB52\"],\"font\":{\"color\":\"#2a3f5f\"},\"geo\":{\"bgcolor\":\"white\",\"lakecolor\":\"white\",\"landcolor\":\"white\",\"showlakes\":true,\"showland\":true,\"subunitcolor\":\"#C8D4E3\"},\"hoverlabel\":{\"align\":\"left\"},\"hovermode\":\"closest\",\"mapbox\":{\"style\":\"light\"},\"paper_bgcolor\":\"white\",\"plot_bgcolor\":\"white\",\"polar\":{\"angularaxis\":{\"gridcolor\":\"#EBF0F8\",\"linecolor\":\"#EBF0F8\",\"ticks\":\"\"},\"bgcolor\":\"white\",\"radialaxis\":{\"gridcolor\":\"#EBF0F8\",\"linecolor\":\"#EBF0F8\",\"ticks\":\"\"}},\"scene\":{\"xaxis\":{\"backgroundcolor\":\"white\",\"gridcolor\":\"#DFE8F3\",\"gridwidth\":2,\"linecolor\":\"#EBF0F8\",\"showbackground\":true,\"ticks\":\"\",\"zerolinecolor\":\"#EBF0F8\"},\"yaxis\":{\"backgroundcolor\":\"white\",\"gridcolor\":\"#DFE8F3\",\"gridwidth\":2,\"linecolor\":\"#EBF0F8\",\"showbackground\":true,\"ticks\":\"\",\"zerolinecolor\":\"#EBF0F8\"},\"zaxis\":{\"backgroundcolor\":\"white\",\"gridcolor\":\"#DFE8F3\",\"gridwidth\":2,\"linecolor\":\"#EBF0F8\",\"showbackground\":true,\"ticks\":\"\",\"zerolinecolor\":\"#EBF0F8\"}},\"shapedefaults\":{\"line\":{\"color\":\"#2a3f5f\"}},\"ternary\":{\"aaxis\":{\"gridcolor\":\"#DFE8F3\",\"linecolor\":\"#A2B1C6\",\"ticks\":\"\"},\"baxis\":{\"gridcolor\":\"#DFE8F3\",\"linecolor\":\"#A2B1C6\",\"ticks\":\"\"},\"bgcolor\":\"white\",\"caxis\":{\"gridcolor\":\"#DFE8F3\",\"linecolor\":\"#A2B1C6\",\"ticks\":\"\"}},\"title\":{\"x\":0.05},\"xaxis\":{\"automargin\":true,\"gridcolor\":\"#EBF0F8\",\"linecolor\":\"#EBF0F8\",\"ticks\":\"\",\"title\":{\"standoff\":15},\"zerolinecolor\":\"#EBF0F8\",\"zerolinewidth\":2},\"yaxis\":{\"automargin\":true,\"gridcolor\":\"#EBF0F8\",\"linecolor\":\"#EBF0F8\",\"ticks\":\"\",\"title\":{\"standoff\":15},\"zerolinecolor\":\"#EBF0F8\",\"zerolinewidth\":2}}},\"legend\":{\"title\":{\"text\":\"Legend\"},\"x\":0.7,\"y\":0.3,\"bgcolor\":\"rgba(255,255,255,0.5)\"},\"title\":{\"text\":\"Linear Regression: Travel Time vs Distance to GPO\"},\"xaxis\":{\"title\":{\"text\":\"Distance to GPO (km)\"}},\"yaxis\":{\"title\":{\"text\":\"Travel time to GPO (minutes)\"}},\"width\":800,\"height\":600},                        {\"responsive\": true}                    ).then(function(){\n",
       "                            \n",
       "var gd = document.getElementById('44bce912-59b7-4e2d-ba0e-fe7a56b9d5ae');\n",
       "var x = new MutationObserver(function (mutations, observer) {{\n",
       "        var display = window.getComputedStyle(gd).display;\n",
       "        if (!display || display === 'none') {{\n",
       "            console.log([gd, 'removed!']);\n",
       "            Plotly.purge(gd);\n",
       "            observer.disconnect();\n",
       "        }}\n",
       "}});\n",
       "\n",
       "// Listen for the removal of the full notebook cells\n",
       "var notebookContainer = gd.closest('#notebook-container');\n",
       "if (notebookContainer) {{\n",
       "    x.observe(notebookContainer, {childList: true});\n",
       "}}\n",
       "\n",
       "// Listen for the clearing of the current output cell\n",
       "var outputEl = gd.closest('.output');\n",
       "if (outputEl) {{\n",
       "    x.observe(outputEl, {childList: true});\n",
       "}}\n",
       "\n",
       "                        })                };                });            </script>        </div>"
      ]
     },
     "metadata": {},
     "output_type": "display_data"
    }
   ],
   "source": [
    "import pandas as pd\n",
    "import numpy as np\n",
    "import plotly.graph_objects as go\n",
    "from sklearn.linear_model import LinearRegression\n",
    "from sklearn.metrics import mean_squared_error\n",
    "\n",
    "# Assuming suburb_data is your dataframe\n",
    "X = suburb_data[['Distance to GPO (km)']].values  # Predictor variable\n",
    "y = suburb_data['Travel time to GPO (minutes)'].values  # Response variable\n",
    "\n",
    "# Create and fit the linear regression model\n",
    "model = LinearRegression()\n",
    "model.fit(X, y)\n",
    "\n",
    "# Predict travel time using the model\n",
    "y_pred = model.predict(X)\n",
    "\n",
    "# Calculate Mean Squared Error\n",
    "mse = mean_squared_error(y, y_pred)\n",
    "print(f\"Mean Squared Error: {mse}\")\n",
    "\n",
    "# Create the plot with Plotly\n",
    "fig = go.Figure()\n",
    "\n",
    "# Add scatter plot for the data points\n",
    "fig.add_trace(go.Scatter(\n",
    "    x=X.flatten(),\n",
    "    y=y,\n",
    "    mode='markers',\n",
    "    name='Data Points',\n",
    "    marker=dict(color='blue', size=6),\n",
    "    hovertemplate='Distance to GPO: %{x:.2f} km<br>Travel Time: %{y:.2f} minutes'\n",
    "))\n",
    "\n",
    "# Add regression line with dashed style\n",
    "fig.add_trace(go.Scatter(\n",
    "    x=X.flatten(),\n",
    "    y=y_pred,\n",
    "    mode='lines',\n",
    "    name='Regression Line',\n",
    "    line=dict(color='green', width=2, dash='dash'),  # Dashed line\n",
    "    hovertemplate='Predicted Travel Time: %{y:.2f} minutes<br>Distance to GPO: %{x:.2f} km'\n",
    "))\n",
    "\n",
    "# Update layout for titles, labels, and legend position\n",
    "fig.update_layout(\n",
    "    title='Linear Regression: Travel Time vs Distance to GPO',\n",
    "    xaxis_title='Distance to GPO (km)',\n",
    "    yaxis_title='Travel time to GPO (minutes)',\n",
    "    legend=dict(\n",
    "        title='Legend',\n",
    "        x=0.7,   # Position of the legend on the x-axis (0 = left, 1 = right)\n",
    "        y=0.3,   # Position of the legend on the y-axis (0 = bottom, 1 = top)\n",
    "        bgcolor='rgba(255,255,255,0.5)'  # Transparent background for better readability\n",
    "    ),\n",
    "    template='plotly_white',\n",
    "    width=800,\n",
    "    height=600\n",
    ")\n",
    "\n",
    "# Show the interactive plot\n",
    "fig.show()\n"
   ]
  },
  {
   "cell_type": "code",
   "execution_count": null,
   "id": "1cf75dfd",
   "metadata": {},
   "outputs": [],
   "source": []
  },
  {
   "cell_type": "markdown",
   "id": "60b68570",
   "metadata": {},
   "source": [
    "## Further analysis"
   ]
  },
  {
   "cell_type": "code",
   "execution_count": 31,
   "id": "74adf8f3",
   "metadata": {},
   "outputs": [
    {
     "data": {
      "text/plain": [
       "[('Travel time to GPO (minutes)', 'Distance to GPO (km)', 0.9939491629342305),\n",
       " ('Area (km^2)', 'Other (km^2)', 0.9286262318346541),\n",
       " ('Rural (km^2)', 'Rural (%)', 0.9308229741144786),\n",
       " ('2012 ERP age 0-4, persons',\n",
       "  '2012 ERP age 5-9, persons',\n",
       "  0.9791374406494091),\n",
       " ('2012 ERP age 0-4, persons',\n",
       "  '2012 ERP age 10-14, persons',\n",
       "  0.9650846070537679),\n",
       " ('2012 ERP age 0-4, persons',\n",
       "  '2012 ERP age 15-19, persons',\n",
       "  0.9005194885575056),\n",
       " ('2012 ERP age 0-4, persons', '2012 ERP, total', 0.9096478432869434),\n",
       " ('2012 ERP age 0-4, persons',\n",
       "  '2007 ERP age 0-4, persons',\n",
       "  0.9378684383303335),\n",
       " ('2012 ERP age 0-4, persons',\n",
       "  '2007 ERP age 5-9, persons',\n",
       "  0.9416101810577593),\n",
       " ('2012 ERP age 0-4, persons',\n",
       "  '2007 ERP age 10-14, persons',\n",
       "  0.9361480688560885),\n",
       " ('2012 ERP age 0-4, persons', 'Number of families', 0.9383098639365989),\n",
       " ('2012 ERP age 0-4, persons', 'Primary school students', 0.9595283779356154),\n",
       " ('2012 ERP age 0-4, persons',\n",
       "  'Secondary school students',\n",
       "  0.9472713651212584),\n",
       " ('2012 ERP age 0-4, persons',\n",
       "  'Did not complete year 12, persons',\n",
       "  0.921426180324535),\n",
       " ('2012 ERP age 0-4, persons',\n",
       "  'Unpaid carer of children, persons',\n",
       "  0.958909064334268),\n",
       " ('2012 ERP age 0-4, persons',\n",
       "  'Presentations to emergency departments, 2012-13',\n",
       "  0.9065684824550145),\n",
       " ('2012 ERP age 0-4, %', '2007 ERP age 0-4, %', 0.9482146736263222),\n",
       " ('2012 ERP age 5-9, persons',\n",
       "  '2012 ERP age 10-14, persons',\n",
       "  0.9932692308228743),\n",
       " ('2012 ERP age 5-9, persons',\n",
       "  '2012 ERP age 15-19, persons',\n",
       "  0.9170072538969178),\n",
       " ('2012 ERP age 5-9, persons',\n",
       "  '2007 ERP age 0-4, persons',\n",
       "  0.9466946027943822),\n",
       " ('2012 ERP age 5-9, persons',\n",
       "  '2007 ERP age 5-9, persons',\n",
       "  0.9735894743743156),\n",
       " ('2012 ERP age 5-9, persons',\n",
       "  '2007 ERP age 10-14, persons',\n",
       "  0.9675411559783105),\n",
       " ('2012 ERP age 5-9, persons', 'Number of families', 0.9313501265544395),\n",
       " ('2012 ERP age 5-9, persons', 'Primary school students', 0.994667702267288),\n",
       " ('2012 ERP age 5-9, persons',\n",
       "  'Secondary school students',\n",
       "  0.9813264071804038),\n",
       " ('2012 ERP age 5-9, persons',\n",
       "  'Did not complete year 12, persons',\n",
       "  0.9143442424778322),\n",
       " ('2012 ERP age 5-9, persons',\n",
       "  'Unpaid carer of children, persons',\n",
       "  0.9722139017795894),\n",
       " ('2012 ERP age 5-9, %', '2007 ERP age 5-9, %', 0.9378226348614368),\n",
       " ('2012 ERP age 5-9, %', 'Unpaid carer of children, %', 0.9283009776941609),\n",
       " ('2012 ERP age 10-14, persons',\n",
       "  '2012 ERP age 15-19, persons',\n",
       "  0.9314235800028261),\n",
       " ('2012 ERP age 10-14, persons',\n",
       "  '2007 ERP age 0-4, persons',\n",
       "  0.9257067027329203),\n",
       " ('2012 ERP age 10-14, persons',\n",
       "  '2007 ERP age 5-9, persons',\n",
       "  0.9750406527591127),\n",
       " ('2012 ERP age 10-14, persons',\n",
       "  '2007 ERP age 10-14, persons',\n",
       "  0.9791655147467565),\n",
       " ('2012 ERP age 10-14, persons', 'Number of families', 0.9169905039718361),\n",
       " ('2012 ERP age 10-14, persons',\n",
       "  'Primary school students',\n",
       "  0.9919574354849774),\n",
       " ('2012 ERP age 10-14, persons',\n",
       "  'Secondary school students',\n",
       "  0.9903766051096645),\n",
       " ('2012 ERP age 10-14, persons',\n",
       "  'Did not complete year 12, persons',\n",
       "  0.9186541610216691),\n",
       " ('2012 ERP age 10-14, persons',\n",
       "  'Unpaid carer of children, persons',\n",
       "  0.95730964148273),\n",
       " ('2012 ERP age 10-14, %', '2007 ERP age 5-9, %', 0.9674041113992661),\n",
       " ('2012 ERP age 10-14, %', '2007 ERP age 10-14, %', 0.9291965689205983),\n",
       " ('2012 ERP age 15-19, persons',\n",
       "  '2007 ERP age 5-9, persons',\n",
       "  0.9019789156435196),\n",
       " ('2012 ERP age 15-19, persons',\n",
       "  '2007 ERP age 10-14, persons',\n",
       "  0.9212421924477019),\n",
       " ('2012 ERP age 15-19, persons',\n",
       "  '2007 ERP age 15-19, persons',\n",
       "  0.9700568423677799),\n",
       " ('2012 ERP age 15-19, persons',\n",
       "  'Primary school students',\n",
       "  0.9117960262386114),\n",
       " ('2012 ERP age 15-19, persons',\n",
       "  'Secondary school students',\n",
       "  0.9381901989884049),\n",
       " ('2012 ERP age 15-19, %', '2007 ERP age 15-19, %', 0.9639827183809686),\n",
       " ('2012 ERP age 20-24, persons',\n",
       "  '2007 ERP age 20-24, persons',\n",
       "  0.9556057087011383),\n",
       " ('2012 ERP age 20-24, %', '2007 ERP age 20-24, %', 0.9804110196478143),\n",
       " ('2012 ERP age 25-44, persons', '2012 ERP, total', 0.9359677632941685),\n",
       " ('2012 ERP age 25-44, persons',\n",
       "  '2007 ERP age 25-44, persons',\n",
       "  0.973213870802144),\n",
       " ('2012 ERP age 25-44, persons', 'Number of Households', 0.9540064767732915),\n",
       " ('2012 ERP age 25-44, persons',\n",
       "  'Occupied private dwellings',\n",
       "  0.9618907788210254),\n",
       " ('2012 ERP age 25-44, persons',\n",
       "  'Category 4 & 5 emergency department presentations',\n",
       "  0.9118558493132706),\n",
       " ('2012 ERP age 25-44, %', '2007 ERP age 25-44, %', 0.9706172881638367),\n",
       " ('2012 ERP age 45-64, persons', '2012 ERP, total', 0.9760563123535345),\n",
       " ('2012 ERP age 45-64, persons',\n",
       "  '2007 ERP age 0-4, persons',\n",
       "  0.941748543629417),\n",
       " ('2012 ERP age 45-64, persons',\n",
       "  '2007 ERP age 5-9, persons',\n",
       "  0.9038392792749703),\n",
       " ('2012 ERP age 45-64, persons',\n",
       "  '2007 ERP age 45-64, persons',\n",
       "  0.9671948604415818),\n",
       " ('2012 ERP age 45-64, persons', '2007 ERP, total', 0.9700132395922304),\n",
       " ('2012 ERP age 45-64, persons', 'Number of Households', 0.9607924854120712),\n",
       " ('2012 ERP age 45-64, persons',\n",
       "  'Occupied private dwellings',\n",
       "  0.9338195254547571),\n",
       " ('2012 ERP age 45-64, persons', 'Number of families', 0.9857711951643423),\n",
       " ('2012 ERP age 45-64, persons',\n",
       "  'Unpaid carer to person with disability, persons',\n",
       "  0.9787601281818135),\n",
       " ('2012 ERP age 45-64, persons',\n",
       "  'Unpaid carer of children, persons',\n",
       "  0.956423031541635),\n",
       " ('2012 ERP age 65-69, persons',\n",
       "  '2012 ERP age 70-74, persons',\n",
       "  0.9704450897513379),\n",
       " ('2012 ERP age 65-69, persons',\n",
       "  '2007 ERP age 45-64, persons',\n",
       "  0.9593180268568837),\n",
       " ('2012 ERP age 65-69, persons',\n",
       "  '2007 ERP age 65-69, persons',\n",
       "  0.9612895150897177),\n",
       " ('2012 ERP age 65-69, %', '2007 ERP age 65-69, %', 0.9344002697751245),\n",
       " ('2012 ERP age 70-74, persons',\n",
       "  '2012 ERP age 75-79, persons',\n",
       "  0.962614578736392),\n",
       " ('2012 ERP age 70-74, persons',\n",
       "  '2012 ERP age 80-84, persons',\n",
       "  0.9299543990358408),\n",
       " ('2012 ERP age 70-74, persons',\n",
       "  '2007 ERP age 45-64, persons',\n",
       "  0.9297669944553597),\n",
       " ('2012 ERP age 70-74, persons',\n",
       "  '2007 ERP age 65-69, persons',\n",
       "  0.9921041498460064),\n",
       " ('2012 ERP age 70-74, persons',\n",
       "  '2007 ERP age 70-74, persons',\n",
       "  0.9487835048248646),\n",
       " ('2012 ERP age 70-74, persons',\n",
       "  '2007 ERP age 75-79, persons',\n",
       "  0.9093617418145679),\n",
       " ('2012 ERP age 70-74, persons',\n",
       "  '2007 ERP age 80-84, persons',\n",
       "  0.9031831563908856),\n",
       " ('2012 ERP age 70-74, %', '2007 ERP age 65-69, %', 0.9848319293393527),\n",
       " ('2012 ERP age 70-74, %', '2007 ERP age 70-74, %', 0.9233213090302983),\n",
       " ('2012 ERP age 75-79, persons',\n",
       "  '2012 ERP age 80-84, persons',\n",
       "  0.9838053364396836),\n",
       " ('2012 ERP age 75-79, persons',\n",
       "  '2012 ERP age 85+, persons',\n",
       "  0.9335142719445428),\n",
       " ('2012 ERP age 75-79, persons',\n",
       "  '2007 ERP age 65-69, persons',\n",
       "  0.9562665624394447),\n",
       " ('2012 ERP age 75-79, persons',\n",
       "  '2007 ERP age 70-74, persons',\n",
       "  0.990903375737344),\n",
       " ('2012 ERP age 75-79, persons',\n",
       "  '2007 ERP age 75-79, persons',\n",
       "  0.9767209183832923),\n",
       " ('2012 ERP age 75-79, persons',\n",
       "  '2007 ERP age 80-84, persons',\n",
       "  0.9568572905261014),\n",
       " ('2012 ERP age 75-79, %', '2007 ERP age 70-74, %', 0.9693757550716486),\n",
       " ('2012 ERP age 75-79, %', '2007 ERP age 75-79, %', 0.9351177286506985),\n",
       " ('2012 ERP age 75-79, %', '2007 ERP age 80-84, %', 0.931413891143772),\n",
       " ('2012 ERP age 80-84, persons',\n",
       "  '2012 ERP age 85+, persons',\n",
       "  0.9550408338616198),\n",
       " ('2012 ERP age 80-84, persons',\n",
       "  '2007 ERP age 65-69, persons',\n",
       "  0.9250425846291236),\n",
       " ('2012 ERP age 80-84, persons',\n",
       "  '2007 ERP age 70-74, persons',\n",
       "  0.9739930252294956),\n",
       " ('2012 ERP age 80-84, persons',\n",
       "  '2007 ERP age 75-79, persons',\n",
       "  0.985456956638771),\n",
       " ('2012 ERP age 80-84, persons',\n",
       "  '2007 ERP age 80-84, persons',\n",
       "  0.9713312382342116),\n",
       " ('2012 ERP age 80-84, %', '2007 ERP age 70-74, %', 0.9405987337653563),\n",
       " ('2012 ERP age 80-84, %', '2007 ERP age 75-79, %', 0.9539456498589366),\n",
       " ('2012 ERP age 80-84, %', '2007 ERP age 80-84, %', 0.9481284057438085),\n",
       " ('2012 ERP age 85+, persons',\n",
       "  '2007 ERP age 70-74, persons',\n",
       "  0.9143715942773011),\n",
       " ('2012 ERP age 85+, persons',\n",
       "  '2007 ERP age 75-79, persons',\n",
       "  0.9272313347683196),\n",
       " ('2012 ERP age 85+, persons',\n",
       "  '2007 ERP age 80-84, persons',\n",
       "  0.961169419452761),\n",
       " ('2012 ERP age 85+, persons',\n",
       "  '2007 ERP age 85+, persons',\n",
       "  0.9450951825239103),\n",
       " ('2012 ERP, total', '2007 ERP age 0-4, persons', 0.9299917835400809),\n",
       " ('2012 ERP, total', '2007 ERP age 45-64, persons', 0.9222130970656862),\n",
       " ('2012 ERP, total', '2007 ERP, total', 0.9736086374391373),\n",
       " ('2012 ERP, total', 'Number of Households', 0.976297354378233),\n",
       " ('2012 ERP, total', 'Occupied private dwellings', 0.9545744473313962),\n",
       " ('2012 ERP, total', 'Personal income <$400/week, persons', 0.909802778369832),\n",
       " ('2012 ERP, total', 'Number of families', 0.9833252442739177),\n",
       " ('2012 ERP, total',\n",
       "  'Unpaid carer to person with disability, persons',\n",
       "  0.9663082073183771),\n",
       " ('2012 ERP, total', 'Unpaid carer of children, persons', 0.9377923394437633),\n",
       " ('2012 ERP, total', '5th top country of birth, persons', 0.9079066846913529),\n",
       " ('2012 ERP, total',\n",
       "  'Public hospital separations, 2012-13',\n",
       "  0.9130294940418828),\n",
       " ('2012 ERP, total',\n",
       "  'Presentations to emergency departments, 2012-13',\n",
       "  0.9372075952139953),\n",
       " ('2012 ERP, total',\n",
       "  'Category 4 & 5 emergency department presentations',\n",
       "  0.9245294519288778),\n",
       " ('2007 ERP age 0-4, persons',\n",
       "  '2007 ERP age 5-9, persons',\n",
       "  0.9716901514804963),\n",
       " ('2007 ERP age 0-4, persons',\n",
       "  '2007 ERP age 10-14, persons',\n",
       "  0.9399554767486121),\n",
       " ('2007 ERP age 0-4, persons', '2007 ERP, total', 0.9151284369296397),\n",
       " ('2007 ERP age 0-4, persons',\n",
       "  'Personal income <$400/week, persons',\n",
       "  0.9053655164065857),\n",
       " ('2007 ERP age 0-4, persons', 'Number of families', 0.9641229269924311),\n",
       " ('2007 ERP age 0-4, persons', 'Primary school students', 0.9418197103326575),\n",
       " ('2007 ERP age 0-4, persons',\n",
       "  'Secondary school students',\n",
       "  0.9288169235408892),\n",
       " ('2007 ERP age 0-4, persons',\n",
       "  'Did not complete year 12, persons',\n",
       "  0.9120114547497157),\n",
       " ('2007 ERP age 0-4, persons',\n",
       "  'Unpaid carer to person with disability, persons',\n",
       "  0.9590894898242246),\n",
       " ('2007 ERP age 0-4, persons',\n",
       "  'Unpaid carer of children, persons',\n",
       "  0.9660095180891844),\n",
       " ('2007 ERP age 5-9, persons',\n",
       "  '2007 ERP age 10-14, persons',\n",
       "  0.9895204255711744),\n",
       " ('2007 ERP age 5-9, persons',\n",
       "  'Personal income <$400/week, persons',\n",
       "  0.903619836235765),\n",
       " ('2007 ERP age 5-9, persons', 'Number of families', 0.9405366496608816),\n",
       " ('2007 ERP age 5-9, persons', 'Primary school students', 0.9758267054555941),\n",
       " ('2007 ERP age 5-9, persons',\n",
       "  'Secondary school students',\n",
       "  0.9796168206627688),\n",
       " ('2007 ERP age 5-9, persons',\n",
       "  'Did not complete year 12, persons',\n",
       "  0.9355358721953165),\n",
       " ('2007 ERP age 5-9, persons',\n",
       "  'Unpaid carer to person with disability, persons',\n",
       "  0.9229042402849948),\n",
       " ('2007 ERP age 5-9, persons',\n",
       "  'Unpaid carer of children, persons',\n",
       "  0.9600203147463623),\n",
       " ('2007 ERP age 10-14, persons',\n",
       "  'Personal income <$400/week, persons',\n",
       "  0.902328361100342),\n",
       " ('2007 ERP age 10-14, persons', 'Number of families', 0.9315214431398585),\n",
       " ('2007 ERP age 10-14, persons',\n",
       "  'Primary school students',\n",
       "  0.9685405487098602),\n",
       " ('2007 ERP age 10-14, persons',\n",
       "  'Secondary school students',\n",
       "  0.9889222793146051),\n",
       " ('2007 ERP age 10-14, persons',\n",
       "  'Did not complete year 12, persons',\n",
       "  0.9481413986664613),\n",
       " ('2007 ERP age 10-14, persons',\n",
       "  'Unpaid carer of children, persons',\n",
       "  0.9479955731506765),\n",
       " ('2007 ERP age 25-44, persons', '2007 ERP, total', 0.9110567310950319),\n",
       " ('2007 ERP age 25-44, persons', 'Number of Households', 0.9508559010502126),\n",
       " ('2007 ERP age 25-44, persons',\n",
       "  'Occupied private dwellings',\n",
       "  0.9681610404616262),\n",
       " ('2007 ERP age 45-64, persons',\n",
       "  '2007 ERP age 65-69, persons',\n",
       "  0.9379706773821462),\n",
       " ('2007 ERP age 45-64, persons', '2007 ERP, total', 0.9694827061828805),\n",
       " ('2007 ERP age 45-64, persons', 'Number of Households', 0.9436767212776537),\n",
       " ('2007 ERP age 45-64, persons',\n",
       "  'Occupied private dwellings',\n",
       "  0.9192096177545713),\n",
       " ('2007 ERP age 45-64, persons', 'Number of families', 0.934302226150112),\n",
       " ('2007 ERP age 45-64, persons',\n",
       "  'Unpaid carer to person with disability, persons',\n",
       "  0.953806861645736),\n",
       " ('2007 ERP age 65-69, persons',\n",
       "  '2007 ERP age 70-74, persons',\n",
       "  0.9527838563087758),\n",
       " ('2007 ERP age 65-69, persons',\n",
       "  '2007 ERP age 75-79, persons',\n",
       "  0.9200346383834315),\n",
       " ('2007 ERP age 65-69, persons',\n",
       "  '2007 ERP age 80-84, persons',\n",
       "  0.9066737808082198),\n",
       " ('2007 ERP age 65-69, %', '2007 ERP age 70-74, %', 0.913454488256473),\n",
       " ('2007 ERP age 70-74, persons',\n",
       "  '2007 ERP age 75-79, persons',\n",
       "  0.9814288756897357),\n",
       " ('2007 ERP age 70-74, persons',\n",
       "  '2007 ERP age 80-84, persons',\n",
       "  0.9602349949459873),\n",
       " ('2007 ERP age 70-74, persons',\n",
       "  'Dwellings with no internet',\n",
       "  0.9121950858825074),\n",
       " ('2007 ERP age 70-74, %', '2007 ERP age 75-79, %', 0.9316178494145051),\n",
       " ('2007 ERP age 75-79, persons',\n",
       "  '2007 ERP age 80-84, persons',\n",
       "  0.9782127770443075),\n",
       " ('2007 ERP age 75-79, %', '2007 ERP age 80-84, %', 0.944580332255414),\n",
       " ('2007 ERP age 80-84, persons',\n",
       "  '2007 ERP age 85+, persons',\n",
       "  0.9094521423361592),\n",
       " ('2007 ERP age 80-84, %', 'Aged 75+ and lives alone, %', 0.9138945637219826),\n",
       " ('2007 ERP, total', 'Number of Households', 0.9829671464449695),\n",
       " ('2007 ERP, total', 'Occupied private dwellings', 0.9651038919306248),\n",
       " ('2007 ERP, total', 'Number of families', 0.956006912272668),\n",
       " ('2007 ERP, total',\n",
       "  'Unpaid carer to person with disability, persons',\n",
       "  0.9714446662380133),\n",
       " ('% change, 2007-2012, age 0-4',\n",
       "  '% change, 2007-2012, age 15-19',\n",
       "  0.9239762959178842),\n",
       " ('% change, 2007-2012, age 0-4',\n",
       "  '% change, 2007-2012, age 20-24',\n",
       "  0.9144393534977022),\n",
       " ('% change, 2007-2012, age 0-4',\n",
       "  '% change, 2007-2012, age 25-44',\n",
       "  0.9716819469390435),\n",
       " ('% change, 2007-2012, age 0-4',\n",
       "  '% change, 2007-2012, age 45-64',\n",
       "  0.9140035812340055),\n",
       " ('% change, 2007-2012, age 0-4',\n",
       "  '% change, 2007-2012, total',\n",
       "  0.964539738190308),\n",
       " ('% change, 2007-2012, age 10-14',\n",
       "  '% change, 2007-2012, age 15-19',\n",
       "  0.951253922382216),\n",
       " ('% change, 2007-2012, age 10-14',\n",
       "  '% change, 2007-2012, age 45-64',\n",
       "  0.9115309460639868),\n",
       " ('% change, 2007-2012, age 10-14',\n",
       "  '% change, 2007-2012, total',\n",
       "  0.9420763552007515),\n",
       " ('% change, 2007-2012, age 15-19',\n",
       "  '% change, 2007-2012, age 20-24',\n",
       "  0.9451017253834356),\n",
       " ('% change, 2007-2012, age 15-19',\n",
       "  '% change, 2007-2012, age 25-44',\n",
       "  0.9599657466162531),\n",
       " ('% change, 2007-2012, age 15-19',\n",
       "  '% change, 2007-2012, age 45-64',\n",
       "  0.9315976498817854),\n",
       " ('% change, 2007-2012, age 15-19',\n",
       "  '% change, 2007-2012, total',\n",
       "  0.9807972191864233),\n",
       " ('% change, 2007-2012, age 20-24',\n",
       "  '% change, 2007-2012, age 25-44',\n",
       "  0.9413827394060962),\n",
       " ('% change, 2007-2012, age 20-24',\n",
       "  '% change, 2007-2012, age 45-64',\n",
       "  0.9187786743188803),\n",
       " ('% change, 2007-2012, age 20-24',\n",
       "  '% change, 2007-2012, total',\n",
       "  0.9513650422918695),\n",
       " ('% change, 2007-2012, age 25-44',\n",
       "  '% change, 2007-2012, age 45-64',\n",
       "  0.9095800097229643),\n",
       " ('% change, 2007-2012, age 25-44',\n",
       "  '% change, 2007-2012, total',\n",
       "  0.984792199828849),\n",
       " ('% change, 2007-2012, age 45-64',\n",
       "  '% change, 2007-2012, total',\n",
       "  0.957283804075339),\n",
       " ('Number of Households', 'Occupied private dwellings', 0.9943408359556554),\n",
       " ('Number of Households', 'Number of families', 0.9449864783031755),\n",
       " ('Number of Households',\n",
       "  'Unpaid carer to person with disability, persons',\n",
       "  0.9453483367513408),\n",
       " ('Occupied private dwellings', 'Number of families', 0.9085944277825592),\n",
       " ('Occupied private dwellings',\n",
       "  'Unpaid carer to person with disability, persons',\n",
       "  0.9141457199492674),\n",
       " ('Dwellings with no internet',\n",
       "  'Equivalent household income <$600/week',\n",
       "  0.9758921336674107),\n",
       " ('Dwellings with no internet',\n",
       "  'Personal income <$400/week, persons',\n",
       "  0.9236077760597928),\n",
       " ('Dwellings with no internet',\n",
       "  'Public hospital separations, 2012-13',\n",
       "  0.9096875924248883),\n",
       " ('Equivalent household income <$600/week',\n",
       "  'Personal income <$400/week, persons',\n",
       "  0.9734030682900676),\n",
       " ('Equivalent household income <$600/week',\n",
       "  'Number of families',\n",
       "  0.906569370307836),\n",
       " ('Equivalent household income <$600/week',\n",
       "  'Did not complete year 12, persons',\n",
       "  0.922233917576545),\n",
       " ('Equivalent household income <$600/week',\n",
       "  'Born overseas, persons',\n",
       "  0.9372778207791507),\n",
       " ('Equivalent household income <$600/week',\n",
       "  'Born in non-English speaking country, persons',\n",
       "  0.9029581237880643),\n",
       " ('Equivalent household income <$600/week',\n",
       "  '4th top country of birth, persons',\n",
       "  0.9064677300432284),\n",
       " ('Equivalent household income <$600/week',\n",
       "  'Public hospital separations, 2012-13',\n",
       "  0.9506988790219805),\n",
       " ('Equivalent household income <$600/week, %',\n",
       "  'IRSD (max)',\n",
       "  -0.9008241061041511),\n",
       " ('Personal income <$400/week, persons',\n",
       "  'Number of families',\n",
       "  0.9226609309785592),\n",
       " ('Personal income <$400/week, persons',\n",
       "  'Did not complete year 12, persons',\n",
       "  0.9226257498450959),\n",
       " ('Personal income <$400/week, persons',\n",
       "  'Unpaid carer to person with disability, persons',\n",
       "  0.9057350970015601),\n",
       " ('Personal income <$400/week, persons',\n",
       "  'Born overseas, persons',\n",
       "  0.9418515404677698),\n",
       " ('Personal income <$400/week, persons',\n",
       "  'Born in non-English speaking country, persons',\n",
       "  0.9185583443741244),\n",
       " ('Personal income <$400/week, persons',\n",
       "  'Speaks LOTE at home, persons',\n",
       "  0.9176621614513467),\n",
       " ('Personal income <$400/week, persons',\n",
       "  '3rd top country of birth, persons',\n",
       "  0.9049846817272258),\n",
       " ('Personal income <$400/week, persons',\n",
       "  '4th top country of birth, persons',\n",
       "  0.9231868208770728),\n",
       " ('Personal income <$400/week, persons',\n",
       "  '5th top country of birth, persons',\n",
       "  0.9189805462330876),\n",
       " ('Personal income <$400/week, persons',\n",
       "  'Public hospital separations, 2012-13',\n",
       "  0.9345657892197318),\n",
       " ('Number of families', 'Primary school students', 0.9195744816215751),\n",
       " ('Number of families', 'Secondary school students', 0.931771196881045),\n",
       " ('Number of families',\n",
       "  'Did not complete year 12, persons',\n",
       "  0.9346607692882638),\n",
       " ('Number of families',\n",
       "  'Unpaid carer to person with disability, persons',\n",
       "  0.9806907131863167),\n",
       " ('Number of families',\n",
       "  'Unpaid carer of children, persons',\n",
       "  0.9730664919203142),\n",
       " ('Number of families',\n",
       "  'Public hospital separations, 2012-13',\n",
       "  0.9165105977752285),\n",
       " ('Number of families',\n",
       "  'Presentations to emergency departments, 2012-13',\n",
       "  0.9264706669827364),\n",
       " ('Number of families',\n",
       "  'Presentations to emergency departments due to injury',\n",
       "  0.9081288597286269),\n",
       " ('Primary school students', 'Secondary school students', 0.983458217690959),\n",
       " ('Primary school students',\n",
       "  'Did not complete year 12, persons',\n",
       "  0.9012670192219265),\n",
       " ('Primary school students',\n",
       "  'Unpaid carer of children, persons',\n",
       "  0.9729654824288878),\n",
       " ('Secondary school students',\n",
       "  'Did not complete year 12, persons',\n",
       "  0.9233095978376519),\n",
       " ('Secondary school students',\n",
       "  'Unpaid carer of children, persons',\n",
       "  0.9603971153280806),\n",
       " ('Holds degree or higher, %',\n",
       "  'Did not complete year 12, %',\n",
       "  -0.9682565530117201),\n",
       " ('Holds degree or higher, %', 'Top occupation, %', 0.9205403163446055),\n",
       " ('Did not complete year 12, persons',\n",
       "  'Unpaid carer of children, persons',\n",
       "  0.9177675368712528),\n",
       " ('Did not complete year 12, persons',\n",
       "  'Public hospital separations, 2012-13',\n",
       "  0.926321873120648),\n",
       " ('Did not complete year 12, persons',\n",
       "  'Presentations to emergency departments, 2012-13',\n",
       "  0.9032407692865092),\n",
       " ('Did not complete year 12, persons',\n",
       "  'Presentations to emergency departments due to injury',\n",
       "  0.9476739454898516),\n",
       " ('Did not complete year 12, %', 'Top occupation, %', -0.9403055393492465),\n",
       " ('Unpaid carer to person with disability, persons',\n",
       "  'Unpaid carer of children, persons',\n",
       "  0.9540421111607301),\n",
       " ('Born overseas, persons',\n",
       "  'Born in non-English speaking country, persons',\n",
       "  0.9818773602588412),\n",
       " ('Born overseas, persons', 'Speaks LOTE at home, persons', 0.962409886727087),\n",
       " ('Born overseas, persons',\n",
       "  '2nd top country of birth, persons',\n",
       "  0.9587860345413801),\n",
       " ('Born overseas, persons',\n",
       "  '3rd top country of birth, persons',\n",
       "  0.9780940831915694),\n",
       " ('Born overseas, persons',\n",
       "  '4th top country of birth, persons',\n",
       "  0.9819538078033776),\n",
       " ('Born overseas, persons',\n",
       "  '5th top country of birth, persons',\n",
       "  0.9224171289821199),\n",
       " ('Born overseas, persons',\n",
       "  'Public hospital separations, 2012-13',\n",
       "  0.90713627190643),\n",
       " ('Born overseas, %',\n",
       "  'Born in non-English speaking country, %',\n",
       "  0.9714196096938988),\n",
       " ('Born overseas, %', 'Speaks LOTE at home, %', 0.9270516136180027),\n",
       " ('Born in non-English speaking country, persons',\n",
       "  'Speaks LOTE at home, persons',\n",
       "  0.9891306966295491),\n",
       " ('Born in non-English speaking country, persons',\n",
       "  '2nd top country of birth, persons',\n",
       "  0.9646519421600597),\n",
       " ('Born in non-English speaking country, persons',\n",
       "  '3rd top country of birth, persons',\n",
       "  0.9566691604105217),\n",
       " ('Born in non-English speaking country, persons',\n",
       "  '4th top country of birth, persons',\n",
       "  0.9706818010302785),\n",
       " ('Born in non-English speaking country, %',\n",
       "  'Speaks LOTE at home, %',\n",
       "  0.9781900065202567),\n",
       " ('Born in non-English speaking country, %',\n",
       "  'Poor English proficiency, %',\n",
       "  0.9346747729511319),\n",
       " ('Speaks LOTE at home, persons',\n",
       "  '2nd top country of birth, persons',\n",
       "  0.9310704350793945),\n",
       " ('Speaks LOTE at home, persons',\n",
       "  '3rd top country of birth, persons',\n",
       "  0.9340682250976193),\n",
       " ('Speaks LOTE at home, persons',\n",
       "  '4th top country of birth, persons',\n",
       "  0.9528779872052249),\n",
       " ('Speaks LOTE at home, persons',\n",
       "  '2nd top language spoken, persons',\n",
       "  0.9119608697488742),\n",
       " ('Speaks LOTE at home, %', 'Poor English proficiency, %', 0.9402947890617119),\n",
       " ('Poor English proficiency, %', 'Top language spoken, %', 0.9276848033431873),\n",
       " ('Top country of birth, persons',\n",
       "  'Top language spoken, persons',\n",
       "  0.9224785539735987),\n",
       " ('2nd top country of birth, persons',\n",
       "  '3rd top country of birth, persons',\n",
       "  0.9608498365282879),\n",
       " ('2nd top country of birth, persons',\n",
       "  '4th top country of birth, persons',\n",
       "  0.9478125886140095),\n",
       " ('3rd top country of birth, persons',\n",
       "  '4th top country of birth, persons',\n",
       "  0.9705434195573885),\n",
       " ('4th top country of birth, persons',\n",
       "  '5th top country of birth, persons',\n",
       "  0.9128785213563255),\n",
       " ('5th top country of birth, persons',\n",
       "  'Public hospital separations, 2012-13',\n",
       "  0.9152203798430152),\n",
       " ('3rd top language spoken, %',\n",
       "  '4th top language spoken, %',\n",
       "  0.9354244402279349),\n",
       " ('4th top language spoken, %',\n",
       "  '5th top language spoken, %',\n",
       "  0.9469209182788697),\n",
       " ('Public hospital separations, 2012-13',\n",
       "  'Presentations to emergency departments, 2012-13',\n",
       "  0.9515758579029144),\n",
       " ('Public hospital separations, 2012-13',\n",
       "  'Presentations to emergency departments due to injury',\n",
       "  0.928385008618969),\n",
       " ('Public hospital separations, 2012-13',\n",
       "  'Category 4 & 5 emergency department presentations',\n",
       "  0.9296866655090285),\n",
       " ('Travel time to nearest public hospital',\n",
       "  'Distance to nearest public hospital',\n",
       "  0.9793654152399847),\n",
       " ('Time to nearest public hospital with maternity services',\n",
       "  'Distance to nearest public hospital with maternity services',\n",
       "  0.988000978814173),\n",
       " ('Presentations to emergency departments, 2012-13',\n",
       "  'Presentations to emergency departments due to injury',\n",
       "  0.9514293506968633),\n",
       " ('Presentations to emergency departments, 2012-13',\n",
       "  'Category 4 & 5 emergency department presentations',\n",
       "  0.9908136009388844),\n",
       " ('Travel time to nearest public hospital with emergency department',\n",
       "  'Distance to nearest public hospital with emergency department',\n",
       "  0.9669599398386216),\n",
       " ('Presentations to emergency departments due to injury',\n",
       "  'Category 4 & 5 emergency department presentations',\n",
       "  0.9226328572063703)]"
      ]
     },
     "execution_count": 31,
     "metadata": {},
     "output_type": "execute_result"
    }
   ],
   "source": [
    "import pandas as pd\n",
    "\n",
    "\n",
    "# Filter numeric columns and calculate correlation matrix\n",
    "numeric_df = suburb_data.select_dtypes(include=['float64', 'int64'])\n",
    "correlation_matrix = numeric_df.corr()\n",
    "\n",
    "# Find unique pairs with correlation greater than 97%\n",
    "high_corr_pairs = []\n",
    "threshold = 0.90\n",
    "\n",
    "# Iterate over the matrix to find highly correlated pairs\n",
    "for i in range(len(correlation_matrix.columns)):\n",
    "    for j in range(i + 1, len(correlation_matrix.columns)):\n",
    "        if abs(correlation_matrix.iloc[i, j]) > threshold:\n",
    "            col1 = correlation_matrix.columns[i]\n",
    "            col2 = correlation_matrix.columns[j]\n",
    "            high_corr_pairs.append((col1, col2, correlation_matrix.iloc[i, j]))\n",
    "\n",
    "high_corr_pairs\n"
   ]
  },
  {
   "cell_type": "code",
   "execution_count": 33,
   "id": "ed3263e2",
   "metadata": {},
   "outputs": [
    {
     "name": "stdout",
     "output_type": "stream",
     "text": [
      "Average RMSE from 5-fold Cross-Validation: 2.365480381866432\n"
     ]
    },
    {
     "data": {
      "application/vnd.plotly.v1+json": {
       "config": {
        "plotlyServerURL": "https://plot.ly"
       },
       "data": [
        {
         "hovertemplate": "Actual Poor English Proficiency (%)=%{x}<br>Predicted Poor English Proficiency (%)=%{y}<extra></extra>",
         "legendgroup": "",
         "marker": {
          "color": "#636efa",
          "symbol": "circle"
         },
         "mode": "markers",
         "name": "",
         "orientation": "v",
         "showlegend": false,
         "type": "scatter",
         "x": [
          6.308522456752897,
          21.67048981244097,
          5.656295730737418,
          2.5382720394158014,
          14.563843236409609,
          12.79616724738676,
          8.72402915261612,
          3.0221346742004043,
          2.3378333882120512,
          2.3590385130908764,
          3.983353151010701,
          2.8081339051044405,
          4.440177607104284,
          15.536039891340751,
          7.748091603053435,
          5.846406421014229,
          3.427875413259092,
          4.944161335790957,
          3.300281189877164,
          4.845512506130456,
          0.1527650473571646,
          5.766312594840668,
          3.32679889298893,
          24.683476965634643,
          3.142029972752044,
          2.284168134910647,
          0.7251908396946565,
          5.333764344593503
         ],
         "xaxis": "x",
         "y": [
          5.936340735914845,
          20.190720034340007,
          7.761689473554361,
          0.9823227517052651,
          14.985396177418224,
          11.46626061354155,
          10.45404030996556,
          3.839650140178233,
          1.812878814365944,
          3.1298071722032352,
          4.19788188789912,
          3.6098830270694355,
          5.441706094899114,
          18.461637273987144,
          10.20280359161811,
          4.386793613109699,
          3.5939382826582875,
          4.780172140387809,
          3.5815874109560637,
          3.6282301789213314,
          -0.9359676691651435,
          5.140684551453475,
          3.5915440900537225,
          21.33396865473916,
          3.7505710581608307,
          2.4598403380557965,
          0.2573580716203172,
          4.2294272481253135
         ],
         "yaxis": "y"
        }
       ],
       "layout": {
        "legend": {
         "tracegroupgap": 0
        },
        "shapes": [
         {
          "line": {
           "color": "red",
           "dash": "dash"
          },
          "type": "line",
          "x0": 0.1527650473571646,
          "x1": 24.683476965634643,
          "y0": 0.1527650473571646,
          "y1": 24.683476965634643
         }
        ],
        "template": {
         "data": {
          "bar": [
           {
            "error_x": {
             "color": "#2a3f5f"
            },
            "error_y": {
             "color": "#2a3f5f"
            },
            "marker": {
             "line": {
              "color": "#E5ECF6",
              "width": 0.5
             },
             "pattern": {
              "fillmode": "overlay",
              "size": 10,
              "solidity": 0.2
             }
            },
            "type": "bar"
           }
          ],
          "barpolar": [
           {
            "marker": {
             "line": {
              "color": "#E5ECF6",
              "width": 0.5
             },
             "pattern": {
              "fillmode": "overlay",
              "size": 10,
              "solidity": 0.2
             }
            },
            "type": "barpolar"
           }
          ],
          "carpet": [
           {
            "aaxis": {
             "endlinecolor": "#2a3f5f",
             "gridcolor": "white",
             "linecolor": "white",
             "minorgridcolor": "white",
             "startlinecolor": "#2a3f5f"
            },
            "baxis": {
             "endlinecolor": "#2a3f5f",
             "gridcolor": "white",
             "linecolor": "white",
             "minorgridcolor": "white",
             "startlinecolor": "#2a3f5f"
            },
            "type": "carpet"
           }
          ],
          "choropleth": [
           {
            "colorbar": {
             "outlinewidth": 0,
             "ticks": ""
            },
            "type": "choropleth"
           }
          ],
          "contour": [
           {
            "colorbar": {
             "outlinewidth": 0,
             "ticks": ""
            },
            "colorscale": [
             [
              0,
              "#0d0887"
             ],
             [
              0.1111111111111111,
              "#46039f"
             ],
             [
              0.2222222222222222,
              "#7201a8"
             ],
             [
              0.3333333333333333,
              "#9c179e"
             ],
             [
              0.4444444444444444,
              "#bd3786"
             ],
             [
              0.5555555555555556,
              "#d8576b"
             ],
             [
              0.6666666666666666,
              "#ed7953"
             ],
             [
              0.7777777777777778,
              "#fb9f3a"
             ],
             [
              0.8888888888888888,
              "#fdca26"
             ],
             [
              1,
              "#f0f921"
             ]
            ],
            "type": "contour"
           }
          ],
          "contourcarpet": [
           {
            "colorbar": {
             "outlinewidth": 0,
             "ticks": ""
            },
            "type": "contourcarpet"
           }
          ],
          "heatmap": [
           {
            "colorbar": {
             "outlinewidth": 0,
             "ticks": ""
            },
            "colorscale": [
             [
              0,
              "#0d0887"
             ],
             [
              0.1111111111111111,
              "#46039f"
             ],
             [
              0.2222222222222222,
              "#7201a8"
             ],
             [
              0.3333333333333333,
              "#9c179e"
             ],
             [
              0.4444444444444444,
              "#bd3786"
             ],
             [
              0.5555555555555556,
              "#d8576b"
             ],
             [
              0.6666666666666666,
              "#ed7953"
             ],
             [
              0.7777777777777778,
              "#fb9f3a"
             ],
             [
              0.8888888888888888,
              "#fdca26"
             ],
             [
              1,
              "#f0f921"
             ]
            ],
            "type": "heatmap"
           }
          ],
          "heatmapgl": [
           {
            "colorbar": {
             "outlinewidth": 0,
             "ticks": ""
            },
            "colorscale": [
             [
              0,
              "#0d0887"
             ],
             [
              0.1111111111111111,
              "#46039f"
             ],
             [
              0.2222222222222222,
              "#7201a8"
             ],
             [
              0.3333333333333333,
              "#9c179e"
             ],
             [
              0.4444444444444444,
              "#bd3786"
             ],
             [
              0.5555555555555556,
              "#d8576b"
             ],
             [
              0.6666666666666666,
              "#ed7953"
             ],
             [
              0.7777777777777778,
              "#fb9f3a"
             ],
             [
              0.8888888888888888,
              "#fdca26"
             ],
             [
              1,
              "#f0f921"
             ]
            ],
            "type": "heatmapgl"
           }
          ],
          "histogram": [
           {
            "marker": {
             "pattern": {
              "fillmode": "overlay",
              "size": 10,
              "solidity": 0.2
             }
            },
            "type": "histogram"
           }
          ],
          "histogram2d": [
           {
            "colorbar": {
             "outlinewidth": 0,
             "ticks": ""
            },
            "colorscale": [
             [
              0,
              "#0d0887"
             ],
             [
              0.1111111111111111,
              "#46039f"
             ],
             [
              0.2222222222222222,
              "#7201a8"
             ],
             [
              0.3333333333333333,
              "#9c179e"
             ],
             [
              0.4444444444444444,
              "#bd3786"
             ],
             [
              0.5555555555555556,
              "#d8576b"
             ],
             [
              0.6666666666666666,
              "#ed7953"
             ],
             [
              0.7777777777777778,
              "#fb9f3a"
             ],
             [
              0.8888888888888888,
              "#fdca26"
             ],
             [
              1,
              "#f0f921"
             ]
            ],
            "type": "histogram2d"
           }
          ],
          "histogram2dcontour": [
           {
            "colorbar": {
             "outlinewidth": 0,
             "ticks": ""
            },
            "colorscale": [
             [
              0,
              "#0d0887"
             ],
             [
              0.1111111111111111,
              "#46039f"
             ],
             [
              0.2222222222222222,
              "#7201a8"
             ],
             [
              0.3333333333333333,
              "#9c179e"
             ],
             [
              0.4444444444444444,
              "#bd3786"
             ],
             [
              0.5555555555555556,
              "#d8576b"
             ],
             [
              0.6666666666666666,
              "#ed7953"
             ],
             [
              0.7777777777777778,
              "#fb9f3a"
             ],
             [
              0.8888888888888888,
              "#fdca26"
             ],
             [
              1,
              "#f0f921"
             ]
            ],
            "type": "histogram2dcontour"
           }
          ],
          "mesh3d": [
           {
            "colorbar": {
             "outlinewidth": 0,
             "ticks": ""
            },
            "type": "mesh3d"
           }
          ],
          "parcoords": [
           {
            "line": {
             "colorbar": {
              "outlinewidth": 0,
              "ticks": ""
             }
            },
            "type": "parcoords"
           }
          ],
          "pie": [
           {
            "automargin": true,
            "type": "pie"
           }
          ],
          "scatter": [
           {
            "fillpattern": {
             "fillmode": "overlay",
             "size": 10,
             "solidity": 0.2
            },
            "type": "scatter"
           }
          ],
          "scatter3d": [
           {
            "line": {
             "colorbar": {
              "outlinewidth": 0,
              "ticks": ""
             }
            },
            "marker": {
             "colorbar": {
              "outlinewidth": 0,
              "ticks": ""
             }
            },
            "type": "scatter3d"
           }
          ],
          "scattercarpet": [
           {
            "marker": {
             "colorbar": {
              "outlinewidth": 0,
              "ticks": ""
             }
            },
            "type": "scattercarpet"
           }
          ],
          "scattergeo": [
           {
            "marker": {
             "colorbar": {
              "outlinewidth": 0,
              "ticks": ""
             }
            },
            "type": "scattergeo"
           }
          ],
          "scattergl": [
           {
            "marker": {
             "colorbar": {
              "outlinewidth": 0,
              "ticks": ""
             }
            },
            "type": "scattergl"
           }
          ],
          "scattermapbox": [
           {
            "marker": {
             "colorbar": {
              "outlinewidth": 0,
              "ticks": ""
             }
            },
            "type": "scattermapbox"
           }
          ],
          "scatterpolar": [
           {
            "marker": {
             "colorbar": {
              "outlinewidth": 0,
              "ticks": ""
             }
            },
            "type": "scatterpolar"
           }
          ],
          "scatterpolargl": [
           {
            "marker": {
             "colorbar": {
              "outlinewidth": 0,
              "ticks": ""
             }
            },
            "type": "scatterpolargl"
           }
          ],
          "scatterternary": [
           {
            "marker": {
             "colorbar": {
              "outlinewidth": 0,
              "ticks": ""
             }
            },
            "type": "scatterternary"
           }
          ],
          "surface": [
           {
            "colorbar": {
             "outlinewidth": 0,
             "ticks": ""
            },
            "colorscale": [
             [
              0,
              "#0d0887"
             ],
             [
              0.1111111111111111,
              "#46039f"
             ],
             [
              0.2222222222222222,
              "#7201a8"
             ],
             [
              0.3333333333333333,
              "#9c179e"
             ],
             [
              0.4444444444444444,
              "#bd3786"
             ],
             [
              0.5555555555555556,
              "#d8576b"
             ],
             [
              0.6666666666666666,
              "#ed7953"
             ],
             [
              0.7777777777777778,
              "#fb9f3a"
             ],
             [
              0.8888888888888888,
              "#fdca26"
             ],
             [
              1,
              "#f0f921"
             ]
            ],
            "type": "surface"
           }
          ],
          "table": [
           {
            "cells": {
             "fill": {
              "color": "#EBF0F8"
             },
             "line": {
              "color": "white"
             }
            },
            "header": {
             "fill": {
              "color": "#C8D4E3"
             },
             "line": {
              "color": "white"
             }
            },
            "type": "table"
           }
          ]
         },
         "layout": {
          "annotationdefaults": {
           "arrowcolor": "#2a3f5f",
           "arrowhead": 0,
           "arrowwidth": 1
          },
          "autotypenumbers": "strict",
          "coloraxis": {
           "colorbar": {
            "outlinewidth": 0,
            "ticks": ""
           }
          },
          "colorscale": {
           "diverging": [
            [
             0,
             "#8e0152"
            ],
            [
             0.1,
             "#c51b7d"
            ],
            [
             0.2,
             "#de77ae"
            ],
            [
             0.3,
             "#f1b6da"
            ],
            [
             0.4,
             "#fde0ef"
            ],
            [
             0.5,
             "#f7f7f7"
            ],
            [
             0.6,
             "#e6f5d0"
            ],
            [
             0.7,
             "#b8e186"
            ],
            [
             0.8,
             "#7fbc41"
            ],
            [
             0.9,
             "#4d9221"
            ],
            [
             1,
             "#276419"
            ]
           ],
           "sequential": [
            [
             0,
             "#0d0887"
            ],
            [
             0.1111111111111111,
             "#46039f"
            ],
            [
             0.2222222222222222,
             "#7201a8"
            ],
            [
             0.3333333333333333,
             "#9c179e"
            ],
            [
             0.4444444444444444,
             "#bd3786"
            ],
            [
             0.5555555555555556,
             "#d8576b"
            ],
            [
             0.6666666666666666,
             "#ed7953"
            ],
            [
             0.7777777777777778,
             "#fb9f3a"
            ],
            [
             0.8888888888888888,
             "#fdca26"
            ],
            [
             1,
             "#f0f921"
            ]
           ],
           "sequentialminus": [
            [
             0,
             "#0d0887"
            ],
            [
             0.1111111111111111,
             "#46039f"
            ],
            [
             0.2222222222222222,
             "#7201a8"
            ],
            [
             0.3333333333333333,
             "#9c179e"
            ],
            [
             0.4444444444444444,
             "#bd3786"
            ],
            [
             0.5555555555555556,
             "#d8576b"
            ],
            [
             0.6666666666666666,
             "#ed7953"
            ],
            [
             0.7777777777777778,
             "#fb9f3a"
            ],
            [
             0.8888888888888888,
             "#fdca26"
            ],
            [
             1,
             "#f0f921"
            ]
           ]
          },
          "colorway": [
           "#636efa",
           "#EF553B",
           "#00cc96",
           "#ab63fa",
           "#FFA15A",
           "#19d3f3",
           "#FF6692",
           "#B6E880",
           "#FF97FF",
           "#FECB52"
          ],
          "font": {
           "color": "#2a3f5f"
          },
          "geo": {
           "bgcolor": "white",
           "lakecolor": "white",
           "landcolor": "#E5ECF6",
           "showlakes": true,
           "showland": true,
           "subunitcolor": "white"
          },
          "hoverlabel": {
           "align": "left"
          },
          "hovermode": "closest",
          "mapbox": {
           "style": "light"
          },
          "paper_bgcolor": "white",
          "plot_bgcolor": "#E5ECF6",
          "polar": {
           "angularaxis": {
            "gridcolor": "white",
            "linecolor": "white",
            "ticks": ""
           },
           "bgcolor": "#E5ECF6",
           "radialaxis": {
            "gridcolor": "white",
            "linecolor": "white",
            "ticks": ""
           }
          },
          "scene": {
           "xaxis": {
            "backgroundcolor": "#E5ECF6",
            "gridcolor": "white",
            "gridwidth": 2,
            "linecolor": "white",
            "showbackground": true,
            "ticks": "",
            "zerolinecolor": "white"
           },
           "yaxis": {
            "backgroundcolor": "#E5ECF6",
            "gridcolor": "white",
            "gridwidth": 2,
            "linecolor": "white",
            "showbackground": true,
            "ticks": "",
            "zerolinecolor": "white"
           },
           "zaxis": {
            "backgroundcolor": "#E5ECF6",
            "gridcolor": "white",
            "gridwidth": 2,
            "linecolor": "white",
            "showbackground": true,
            "ticks": "",
            "zerolinecolor": "white"
           }
          },
          "shapedefaults": {
           "line": {
            "color": "#2a3f5f"
           }
          },
          "ternary": {
           "aaxis": {
            "gridcolor": "white",
            "linecolor": "white",
            "ticks": ""
           },
           "baxis": {
            "gridcolor": "white",
            "linecolor": "white",
            "ticks": ""
           },
           "bgcolor": "#E5ECF6",
           "caxis": {
            "gridcolor": "white",
            "linecolor": "white",
            "ticks": ""
           }
          },
          "title": {
           "x": 0.05
          },
          "xaxis": {
           "automargin": true,
           "gridcolor": "white",
           "linecolor": "white",
           "ticks": "",
           "title": {
            "standoff": 15
           },
           "zerolinecolor": "white",
           "zerolinewidth": 2
          },
          "yaxis": {
           "automargin": true,
           "gridcolor": "white",
           "linecolor": "white",
           "ticks": "",
           "title": {
            "standoff": 15
           },
           "zerolinecolor": "white",
           "zerolinewidth": 2
          }
         }
        },
        "title": {
         "text": "Actual vs Predicted Poor English Proficiency (%)"
        },
        "xaxis": {
         "anchor": "y",
         "domain": [
          0,
          1
         ],
         "title": {
          "text": "Actual Poor English Proficiency (%)"
         }
        },
        "yaxis": {
         "anchor": "x",
         "domain": [
          0,
          1
         ],
         "title": {
          "text": "Predicted Poor English Proficiency (%)"
         }
        }
       }
      },
      "text/html": [
       "<div>                            <div id=\"e44d79c4-9093-42e3-9aac-30555a64a2e9\" class=\"plotly-graph-div\" style=\"height:525px; width:100%;\"></div>            <script type=\"text/javascript\">                require([\"plotly\"], function(Plotly) {                    window.PLOTLYENV=window.PLOTLYENV || {};                                    if (document.getElementById(\"e44d79c4-9093-42e3-9aac-30555a64a2e9\")) {                    Plotly.newPlot(                        \"e44d79c4-9093-42e3-9aac-30555a64a2e9\",                        [{\"hovertemplate\":\"Actual Poor English Proficiency (%)=%{x}<br>Predicted Poor English Proficiency (%)=%{y}<extra></extra>\",\"legendgroup\":\"\",\"marker\":{\"color\":\"#636efa\",\"symbol\":\"circle\"},\"mode\":\"markers\",\"name\":\"\",\"orientation\":\"v\",\"showlegend\":false,\"x\":[6.308522456752897,21.67048981244097,5.656295730737418,2.5382720394158014,14.563843236409609,12.79616724738676,8.72402915261612,3.0221346742004043,2.3378333882120512,2.3590385130908764,3.983353151010701,2.8081339051044405,4.440177607104284,15.536039891340751,7.748091603053435,5.846406421014229,3.427875413259092,4.944161335790957,3.300281189877164,4.845512506130456,0.1527650473571646,5.766312594840668,3.32679889298893,24.683476965634643,3.142029972752044,2.284168134910647,0.7251908396946565,5.333764344593503],\"xaxis\":\"x\",\"y\":[5.936340735914845,20.190720034340007,7.761689473554361,0.9823227517052651,14.985396177418224,11.46626061354155,10.45404030996556,3.839650140178233,1.812878814365944,3.1298071722032352,4.19788188789912,3.6098830270694355,5.441706094899114,18.461637273987144,10.20280359161811,4.386793613109699,3.5939382826582875,4.780172140387809,3.5815874109560637,3.6282301789213314,-0.9359676691651435,5.140684551453475,3.5915440900537225,21.33396865473916,3.7505710581608307,2.4598403380557965,0.2573580716203172,4.2294272481253135],\"yaxis\":\"y\",\"type\":\"scatter\"}],                        {\"template\":{\"data\":{\"histogram2dcontour\":[{\"type\":\"histogram2dcontour\",\"colorbar\":{\"outlinewidth\":0,\"ticks\":\"\"},\"colorscale\":[[0.0,\"#0d0887\"],[0.1111111111111111,\"#46039f\"],[0.2222222222222222,\"#7201a8\"],[0.3333333333333333,\"#9c179e\"],[0.4444444444444444,\"#bd3786\"],[0.5555555555555556,\"#d8576b\"],[0.6666666666666666,\"#ed7953\"],[0.7777777777777778,\"#fb9f3a\"],[0.8888888888888888,\"#fdca26\"],[1.0,\"#f0f921\"]]}],\"choropleth\":[{\"type\":\"choropleth\",\"colorbar\":{\"outlinewidth\":0,\"ticks\":\"\"}}],\"histogram2d\":[{\"type\":\"histogram2d\",\"colorbar\":{\"outlinewidth\":0,\"ticks\":\"\"},\"colorscale\":[[0.0,\"#0d0887\"],[0.1111111111111111,\"#46039f\"],[0.2222222222222222,\"#7201a8\"],[0.3333333333333333,\"#9c179e\"],[0.4444444444444444,\"#bd3786\"],[0.5555555555555556,\"#d8576b\"],[0.6666666666666666,\"#ed7953\"],[0.7777777777777778,\"#fb9f3a\"],[0.8888888888888888,\"#fdca26\"],[1.0,\"#f0f921\"]]}],\"heatmap\":[{\"type\":\"heatmap\",\"colorbar\":{\"outlinewidth\":0,\"ticks\":\"\"},\"colorscale\":[[0.0,\"#0d0887\"],[0.1111111111111111,\"#46039f\"],[0.2222222222222222,\"#7201a8\"],[0.3333333333333333,\"#9c179e\"],[0.4444444444444444,\"#bd3786\"],[0.5555555555555556,\"#d8576b\"],[0.6666666666666666,\"#ed7953\"],[0.7777777777777778,\"#fb9f3a\"],[0.8888888888888888,\"#fdca26\"],[1.0,\"#f0f921\"]]}],\"heatmapgl\":[{\"type\":\"heatmapgl\",\"colorbar\":{\"outlinewidth\":0,\"ticks\":\"\"},\"colorscale\":[[0.0,\"#0d0887\"],[0.1111111111111111,\"#46039f\"],[0.2222222222222222,\"#7201a8\"],[0.3333333333333333,\"#9c179e\"],[0.4444444444444444,\"#bd3786\"],[0.5555555555555556,\"#d8576b\"],[0.6666666666666666,\"#ed7953\"],[0.7777777777777778,\"#fb9f3a\"],[0.8888888888888888,\"#fdca26\"],[1.0,\"#f0f921\"]]}],\"contourcarpet\":[{\"type\":\"contourcarpet\",\"colorbar\":{\"outlinewidth\":0,\"ticks\":\"\"}}],\"contour\":[{\"type\":\"contour\",\"colorbar\":{\"outlinewidth\":0,\"ticks\":\"\"},\"colorscale\":[[0.0,\"#0d0887\"],[0.1111111111111111,\"#46039f\"],[0.2222222222222222,\"#7201a8\"],[0.3333333333333333,\"#9c179e\"],[0.4444444444444444,\"#bd3786\"],[0.5555555555555556,\"#d8576b\"],[0.6666666666666666,\"#ed7953\"],[0.7777777777777778,\"#fb9f3a\"],[0.8888888888888888,\"#fdca26\"],[1.0,\"#f0f921\"]]}],\"surface\":[{\"type\":\"surface\",\"colorbar\":{\"outlinewidth\":0,\"ticks\":\"\"},\"colorscale\":[[0.0,\"#0d0887\"],[0.1111111111111111,\"#46039f\"],[0.2222222222222222,\"#7201a8\"],[0.3333333333333333,\"#9c179e\"],[0.4444444444444444,\"#bd3786\"],[0.5555555555555556,\"#d8576b\"],[0.6666666666666666,\"#ed7953\"],[0.7777777777777778,\"#fb9f3a\"],[0.8888888888888888,\"#fdca26\"],[1.0,\"#f0f921\"]]}],\"mesh3d\":[{\"type\":\"mesh3d\",\"colorbar\":{\"outlinewidth\":0,\"ticks\":\"\"}}],\"scatter\":[{\"fillpattern\":{\"fillmode\":\"overlay\",\"size\":10,\"solidity\":0.2},\"type\":\"scatter\"}],\"parcoords\":[{\"type\":\"parcoords\",\"line\":{\"colorbar\":{\"outlinewidth\":0,\"ticks\":\"\"}}}],\"scatterpolargl\":[{\"type\":\"scatterpolargl\",\"marker\":{\"colorbar\":{\"outlinewidth\":0,\"ticks\":\"\"}}}],\"bar\":[{\"error_x\":{\"color\":\"#2a3f5f\"},\"error_y\":{\"color\":\"#2a3f5f\"},\"marker\":{\"line\":{\"color\":\"#E5ECF6\",\"width\":0.5},\"pattern\":{\"fillmode\":\"overlay\",\"size\":10,\"solidity\":0.2}},\"type\":\"bar\"}],\"scattergeo\":[{\"type\":\"scattergeo\",\"marker\":{\"colorbar\":{\"outlinewidth\":0,\"ticks\":\"\"}}}],\"scatterpolar\":[{\"type\":\"scatterpolar\",\"marker\":{\"colorbar\":{\"outlinewidth\":0,\"ticks\":\"\"}}}],\"histogram\":[{\"marker\":{\"pattern\":{\"fillmode\":\"overlay\",\"size\":10,\"solidity\":0.2}},\"type\":\"histogram\"}],\"scattergl\":[{\"type\":\"scattergl\",\"marker\":{\"colorbar\":{\"outlinewidth\":0,\"ticks\":\"\"}}}],\"scatter3d\":[{\"type\":\"scatter3d\",\"line\":{\"colorbar\":{\"outlinewidth\":0,\"ticks\":\"\"}},\"marker\":{\"colorbar\":{\"outlinewidth\":0,\"ticks\":\"\"}}}],\"scattermapbox\":[{\"type\":\"scattermapbox\",\"marker\":{\"colorbar\":{\"outlinewidth\":0,\"ticks\":\"\"}}}],\"scatterternary\":[{\"type\":\"scatterternary\",\"marker\":{\"colorbar\":{\"outlinewidth\":0,\"ticks\":\"\"}}}],\"scattercarpet\":[{\"type\":\"scattercarpet\",\"marker\":{\"colorbar\":{\"outlinewidth\":0,\"ticks\":\"\"}}}],\"carpet\":[{\"aaxis\":{\"endlinecolor\":\"#2a3f5f\",\"gridcolor\":\"white\",\"linecolor\":\"white\",\"minorgridcolor\":\"white\",\"startlinecolor\":\"#2a3f5f\"},\"baxis\":{\"endlinecolor\":\"#2a3f5f\",\"gridcolor\":\"white\",\"linecolor\":\"white\",\"minorgridcolor\":\"white\",\"startlinecolor\":\"#2a3f5f\"},\"type\":\"carpet\"}],\"table\":[{\"cells\":{\"fill\":{\"color\":\"#EBF0F8\"},\"line\":{\"color\":\"white\"}},\"header\":{\"fill\":{\"color\":\"#C8D4E3\"},\"line\":{\"color\":\"white\"}},\"type\":\"table\"}],\"barpolar\":[{\"marker\":{\"line\":{\"color\":\"#E5ECF6\",\"width\":0.5},\"pattern\":{\"fillmode\":\"overlay\",\"size\":10,\"solidity\":0.2}},\"type\":\"barpolar\"}],\"pie\":[{\"automargin\":true,\"type\":\"pie\"}]},\"layout\":{\"autotypenumbers\":\"strict\",\"colorway\":[\"#636efa\",\"#EF553B\",\"#00cc96\",\"#ab63fa\",\"#FFA15A\",\"#19d3f3\",\"#FF6692\",\"#B6E880\",\"#FF97FF\",\"#FECB52\"],\"font\":{\"color\":\"#2a3f5f\"},\"hovermode\":\"closest\",\"hoverlabel\":{\"align\":\"left\"},\"paper_bgcolor\":\"white\",\"plot_bgcolor\":\"#E5ECF6\",\"polar\":{\"bgcolor\":\"#E5ECF6\",\"angularaxis\":{\"gridcolor\":\"white\",\"linecolor\":\"white\",\"ticks\":\"\"},\"radialaxis\":{\"gridcolor\":\"white\",\"linecolor\":\"white\",\"ticks\":\"\"}},\"ternary\":{\"bgcolor\":\"#E5ECF6\",\"aaxis\":{\"gridcolor\":\"white\",\"linecolor\":\"white\",\"ticks\":\"\"},\"baxis\":{\"gridcolor\":\"white\",\"linecolor\":\"white\",\"ticks\":\"\"},\"caxis\":{\"gridcolor\":\"white\",\"linecolor\":\"white\",\"ticks\":\"\"}},\"coloraxis\":{\"colorbar\":{\"outlinewidth\":0,\"ticks\":\"\"}},\"colorscale\":{\"sequential\":[[0.0,\"#0d0887\"],[0.1111111111111111,\"#46039f\"],[0.2222222222222222,\"#7201a8\"],[0.3333333333333333,\"#9c179e\"],[0.4444444444444444,\"#bd3786\"],[0.5555555555555556,\"#d8576b\"],[0.6666666666666666,\"#ed7953\"],[0.7777777777777778,\"#fb9f3a\"],[0.8888888888888888,\"#fdca26\"],[1.0,\"#f0f921\"]],\"sequentialminus\":[[0.0,\"#0d0887\"],[0.1111111111111111,\"#46039f\"],[0.2222222222222222,\"#7201a8\"],[0.3333333333333333,\"#9c179e\"],[0.4444444444444444,\"#bd3786\"],[0.5555555555555556,\"#d8576b\"],[0.6666666666666666,\"#ed7953\"],[0.7777777777777778,\"#fb9f3a\"],[0.8888888888888888,\"#fdca26\"],[1.0,\"#f0f921\"]],\"diverging\":[[0,\"#8e0152\"],[0.1,\"#c51b7d\"],[0.2,\"#de77ae\"],[0.3,\"#f1b6da\"],[0.4,\"#fde0ef\"],[0.5,\"#f7f7f7\"],[0.6,\"#e6f5d0\"],[0.7,\"#b8e186\"],[0.8,\"#7fbc41\"],[0.9,\"#4d9221\"],[1,\"#276419\"]]},\"xaxis\":{\"gridcolor\":\"white\",\"linecolor\":\"white\",\"ticks\":\"\",\"title\":{\"standoff\":15},\"zerolinecolor\":\"white\",\"automargin\":true,\"zerolinewidth\":2},\"yaxis\":{\"gridcolor\":\"white\",\"linecolor\":\"white\",\"ticks\":\"\",\"title\":{\"standoff\":15},\"zerolinecolor\":\"white\",\"automargin\":true,\"zerolinewidth\":2},\"scene\":{\"xaxis\":{\"backgroundcolor\":\"#E5ECF6\",\"gridcolor\":\"white\",\"linecolor\":\"white\",\"showbackground\":true,\"ticks\":\"\",\"zerolinecolor\":\"white\",\"gridwidth\":2},\"yaxis\":{\"backgroundcolor\":\"#E5ECF6\",\"gridcolor\":\"white\",\"linecolor\":\"white\",\"showbackground\":true,\"ticks\":\"\",\"zerolinecolor\":\"white\",\"gridwidth\":2},\"zaxis\":{\"backgroundcolor\":\"#E5ECF6\",\"gridcolor\":\"white\",\"linecolor\":\"white\",\"showbackground\":true,\"ticks\":\"\",\"zerolinecolor\":\"white\",\"gridwidth\":2}},\"shapedefaults\":{\"line\":{\"color\":\"#2a3f5f\"}},\"annotationdefaults\":{\"arrowcolor\":\"#2a3f5f\",\"arrowhead\":0,\"arrowwidth\":1},\"geo\":{\"bgcolor\":\"white\",\"landcolor\":\"#E5ECF6\",\"subunitcolor\":\"white\",\"showland\":true,\"showlakes\":true,\"lakecolor\":\"white\"},\"title\":{\"x\":0.05},\"mapbox\":{\"style\":\"light\"}}},\"xaxis\":{\"anchor\":\"y\",\"domain\":[0.0,1.0],\"title\":{\"text\":\"Actual Poor English Proficiency (%)\"}},\"yaxis\":{\"anchor\":\"x\",\"domain\":[0.0,1.0],\"title\":{\"text\":\"Predicted Poor English Proficiency (%)\"}},\"legend\":{\"tracegroupgap\":0},\"title\":{\"text\":\"Actual vs Predicted Poor English Proficiency (%)\"},\"shapes\":[{\"line\":{\"color\":\"red\",\"dash\":\"dash\"},\"type\":\"line\",\"x0\":0.1527650473571646,\"x1\":24.683476965634643,\"y0\":0.1527650473571646,\"y1\":24.683476965634643}]},                        {\"responsive\": true}                    ).then(function(){\n",
       "                            \n",
       "var gd = document.getElementById('e44d79c4-9093-42e3-9aac-30555a64a2e9');\n",
       "var x = new MutationObserver(function (mutations, observer) {{\n",
       "        var display = window.getComputedStyle(gd).display;\n",
       "        if (!display || display === 'none') {{\n",
       "            console.log([gd, 'removed!']);\n",
       "            Plotly.purge(gd);\n",
       "            observer.disconnect();\n",
       "        }}\n",
       "}});\n",
       "\n",
       "// Listen for the removal of the full notebook cells\n",
       "var notebookContainer = gd.closest('#notebook-container');\n",
       "if (notebookContainer) {{\n",
       "    x.observe(notebookContainer, {childList: true});\n",
       "}}\n",
       "\n",
       "// Listen for the clearing of the current output cell\n",
       "var outputEl = gd.closest('.output');\n",
       "if (outputEl) {{\n",
       "    x.observe(outputEl, {childList: true});\n",
       "}}\n",
       "\n",
       "                        })                };                });            </script>        </div>"
      ]
     },
     "metadata": {},
     "output_type": "display_data"
    }
   ],
   "source": [
    "import pandas as pd\n",
    "import statsmodels.api as sm\n",
    "from sklearn.model_selection import KFold\n",
    "from sklearn.metrics import mean_squared_error\n",
    "import numpy as np\n",
    "\n",
    "# Assuming 'suburb_data' DataFrame is already loaded with the necessary columns\n",
    "\n",
    "# Define target and features\n",
    "target = 'Poor English proficiency, %'\n",
    "features = [\n",
    "    'Born in non-English speaking country, %',\n",
    "    'Population Density',\n",
    "    'Speaks LOTE at home, %',\n",
    "    'Personal income <$400/week, %',\n",
    "    'Did not complete year 12, %',\n",
    "    'Female-headed lone parent families, %',\n",
    "    '% dwellings which are public housing',\n",
    "    'Travel time to nearest public hospital'\n",
    "]\n",
    "\n",
    "# Drop any rows with missing values in selected columns\n",
    "data = suburb_data[features + [target]].dropna()\n",
    "\n",
    "# Separate the features (X) and target variable (y)\n",
    "X = data[features]\n",
    "y = data[target]\n",
    "\n",
    "# Add a constant for the intercept\n",
    "X = sm.add_constant(X)\n",
    "\n",
    "# Initialize KFold with 5 splits (can adjust depending on data size)\n",
    "kf = KFold(n_splits=5, shuffle=True, random_state=42)\n",
    "\n",
    "# Initialize a list to store RMSE values for each fold\n",
    "rmse_values = []\n",
    "\n",
    "# Cross-validation loop\n",
    "for train_index, test_index in kf.split(X):\n",
    "    # Split the data into training and test sets\n",
    "    X_train, X_test = X.iloc[train_index], X.iloc[test_index]\n",
    "    y_train, y_test = y.iloc[train_index], y.iloc[test_index]\n",
    "    \n",
    "    # Fit the linear regression model\n",
    "    model = sm.OLS(y_train, X_train).fit()\n",
    "    \n",
    "    # Make predictions on the test set\n",
    "    y_pred = model.predict(X_test)\n",
    "    \n",
    "    # Calculate and store the RMSE for this fold\n",
    "    rmse = np.sqrt(mean_squared_error(y_test, y_pred))\n",
    "    rmse_values.append(rmse)\n",
    "\n",
    "# Calculate the average RMSE across all folds\n",
    "avg_rmse = np.mean(rmse_values)\n",
    "print(\"Average RMSE from 5-fold Cross-Validation:\", avg_rmse)\n",
    "\n",
    "# Plotting the true vs predicted values for the last fold (optional)\n",
    "import plotly.express as px\n",
    "\n",
    "# Fit the model again on the entire dataset for final visualization\n",
    "model = sm.OLS(y, X).fit()\n",
    "y_pred_final = model.predict(X)\n",
    "\n",
    "# Create a DataFrame for plotting\n",
    "results = pd.DataFrame({'True Values': y, 'Predicted Values': y_pred_final})\n",
    "\n",
    "# Plot Actual vs Predicted values\n",
    "fig = px.scatter(results, x='True Values', y='Predicted Values',\n",
    "                 labels={'True Values': 'Actual Poor English Proficiency (%)',\n",
    "                         'Predicted Values': 'Predicted Poor English Proficiency (%)'},\n",
    "                 title='Actual vs Predicted Poor English Proficiency (%)')\n",
    "fig.add_shape(type='line', line=dict(dash='dash', color='red'),\n",
    "              x0=results['True Values'].min(), y0=results['True Values'].min(),\n",
    "              x1=results['True Values'].max(), y1=results['True Values'].max())\n",
    "\n",
    "fig.show()\n"
   ]
  },
  {
   "cell_type": "code",
   "execution_count": 38,
   "id": "cf00a265",
   "metadata": {},
   "outputs": [
    {
     "name": "stdout",
     "output_type": "stream",
     "text": [
      "                                 OLS Regression Results                                \n",
      "=======================================================================================\n",
      "Dep. Variable:     Poor English proficiency, %   R-squared:                       0.963\n",
      "Model:                                     OLS   Adj. R-squared:                  0.942\n",
      "Method:                          Least Squares   F-statistic:                     45.61\n",
      "Date:                         Sun, 10 Nov 2024   Prob (F-statistic):           1.02e-08\n",
      "Time:                                 23:02:48   Log-Likelihood:                -37.526\n",
      "No. Observations:                           23   AIC:                             93.05\n",
      "Df Residuals:                               14   BIC:                             103.3\n",
      "Df Model:                                    8                                         \n",
      "Covariance Type:                     nonrobust                                         \n",
      "===========================================================================================================\n",
      "                                              coef    std err          t      P>|t|      [0.025      0.975]\n",
      "-----------------------------------------------------------------------------------------------------------\n",
      "const                                      -9.2086      3.698     -2.490      0.026     -17.140      -1.278\n",
      "Born in non-English speaking country, %     0.2992      0.137      2.181      0.047       0.005       0.593\n",
      "Population Density                          0.0002      0.000      0.659      0.520      -0.001       0.001\n",
      "Speaks LOTE at home, %                      0.0491      0.103      0.476      0.641      -0.172       0.270\n",
      "Personal income <$400/week, %              -0.0074      0.075     -0.099      0.923      -0.169       0.154\n",
      "Did not complete year 12, %                 0.0164      0.082      0.201      0.844      -0.159       0.192\n",
      "Female-headed lone parent families, %       0.2331      0.366      0.637      0.534      -0.551       1.017\n",
      "% dwellings which are public housing        0.0634      0.078      0.811      0.431      -0.104       0.231\n",
      "Travel time to nearest public hospital      0.2983      0.243      1.229      0.239      -0.222       0.819\n",
      "==============================================================================\n",
      "Omnibus:                        3.222   Durbin-Watson:                   2.562\n",
      "Prob(Omnibus):                  0.200   Jarque-Bera (JB):                1.678\n",
      "Skew:                           0.195   Prob(JB):                        0.432\n",
      "Kurtosis:                       4.265   Cond. No.                     4.28e+04\n",
      "==============================================================================\n",
      "\n",
      "Notes:\n",
      "[1] Standard Errors assume that the covariance matrix of the errors is correctly specified.\n",
      "[2] The condition number is large, 4.28e+04. This might indicate that there are\n",
      "strong multicollinearity or other numerical problems.\n"
     ]
    }
   ],
   "source": [
    "# Add a constant (intercept) to the model\n",
    "X_train = sm.add_constant(X_train)\n",
    "\n",
    "# Fit the model (fit is called only once here)\n",
    "model = sm.OLS(y_train, X_train).fit()\n",
    "\n",
    "# Now you can use the model results for predictions or analysis\n",
    "y_pred = model.predict(X_train)\n",
    "\n",
    "# Model summary\n",
    "print(model.summary())"
   ]
  },
  {
   "cell_type": "code",
   "execution_count": null,
   "id": "fc347f9d",
   "metadata": {},
   "outputs": [],
   "source": []
  }
 ],
 "metadata": {
  "kernelspec": {
   "display_name": "Python 3 (ipykernel)",
   "language": "python",
   "name": "python3"
  },
  "language_info": {
   "codemirror_mode": {
    "name": "ipython",
    "version": 3
   },
   "file_extension": ".py",
   "mimetype": "text/x-python",
   "name": "python",
   "nbconvert_exporter": "python",
   "pygments_lexer": "ipython3",
   "version": "3.9.0"
  }
 },
 "nbformat": 4,
 "nbformat_minor": 5
}
